{
 "cells": [
  {
   "cell_type": "code",
   "execution_count": 64,
   "metadata": {
    "metadata": {}
   },
   "outputs": [],
   "source": [
    "# Importar librerías\n",
    "import pandas as pd\n",
    "import matplotlib.pyplot as plt\n",
    "import seaborn as sns\n",
    "import numpy as np\n",
    "\n",
    "# Importar MLFLOW\n",
    "import mlflow\n",
    "import mlflow.sklearn\n",
    "from mlflow.models import infer_signature\n",
    "\n",
    "# Importar elementos del modelo\n",
    "from sklearn.datasets import load_iris\n",
    "from sklearn.model_selection import train_test_split\n",
    "from sklearn.linear_model import LogisticRegression\n",
    "from sklearn.svm import SVC\n",
    "from sklearn.ensemble import RandomForestClassifier, GradientBoostingClassifier\n",
    "from sklearn.metrics import accuracy_score, f1_score, confusion_matrix, roc_auc_score, roc_curve, classification_report, confusion_matrix, accuracy_score"
   ]
  },
  {
   "cell_type": "code",
   "execution_count": 14,
   "metadata": {
    "metadata": {}
   },
   "outputs": [],
   "source": [
    "#!pip install mlflow"
   ]
  },
  {
   "cell_type": "code",
   "execution_count": 15,
   "metadata": {
    "metadata": {}
   },
   "outputs": [],
   "source": [
    "track_uri = \"http://localhost:8080/\" # Esto puede ser que cambie por http://0.0.0.0:1234\n",
    "mlflow.set_tracking_uri(track_uri)\n",
    "mlflow.set_registry_uri(\"sqlite:////tmp/registry.db\")"
   ]
  },
  {
   "cell_type": "code",
   "execution_count": 16,
   "metadata": {
    "metadata": {}
   },
   "outputs": [
    {
     "name": "stderr",
     "output_type": "stream",
     "text": [
      "2024/05/26 06:19:21 INFO mlflow.tracking.fluent: Experiment with name 'Proyecto_Dengue_AAA' does not exist. Creating a new experiment.\n"
     ]
    },
    {
     "name": "stdout",
     "output_type": "stream",
     "text": [
      "MLflow Version: 2.13.0\n",
      "Tracking URI: http://localhost:8080/\n",
      "Nombre del experimento: Proyecto_Dengue_AAA\n",
      "ID del experimento: 999845863419534997\n"
     ]
    }
   ],
   "source": [
    "# Generando el experimento o cargandolo si existe\n",
    "experiment_name = \"Proyecto_Dengue_AAA\"\n",
    "mlflow.set_experiment(experiment_name)\n",
    "\n",
    "# Cargando la información\n",
    "client = mlflow.tracking.MlflowClient()\n",
    "experiment_id = client.get_experiment_by_name(experiment_name).experiment_id\n",
    "\n",
    "# Validacion\n",
    "print(f\"MLflow Version: {mlflow.__version__}\")\n",
    "print(f\"Tracking URI: {mlflow.tracking.get_tracking_uri()}\")\n",
    "print(f\"Nombre del experimento: {experiment_name}\")\n",
    "print(f\"ID del experimento: {experiment_id}\")"
   ]
  },
  {
   "cell_type": "markdown",
   "metadata": {},
   "source": [
    "## Cargar datos"
   ]
  },
  {
   "cell_type": "code",
   "execution_count": 32,
   "metadata": {
    "metadata": {}
   },
   "outputs": [],
   "source": [
    "# Cargar datos desde el archivo Parquet\n",
    "df = pd.read_parquet(\"processed_train_data.parquet\")"
   ]
  },
  {
   "cell_type": "code",
   "execution_count": 33,
   "metadata": {
    "metadata": {}
   },
   "outputs": [
    {
     "data": {
      "text/html": [
       "<div>\n",
       "<style scoped>\n",
       "    .dataframe tbody tr th:only-of-type {\n",
       "        vertical-align: middle;\n",
       "    }\n",
       "\n",
       "    .dataframe tbody tr th {\n",
       "        vertical-align: top;\n",
       "    }\n",
       "\n",
       "    .dataframe thead th {\n",
       "        text-align: right;\n",
       "    }\n",
       "</style>\n",
       "<table border=\"1\" class=\"dataframe\">\n",
       "  <thead>\n",
       "    <tr style=\"text-align: right;\">\n",
       "      <th></th>\n",
       "      <th>0</th>\n",
       "      <th>1</th>\n",
       "      <th>2</th>\n",
       "      <th>3</th>\n",
       "      <th>4</th>\n",
       "      <th>5</th>\n",
       "      <th>6</th>\n",
       "      <th>7</th>\n",
       "      <th>8</th>\n",
       "      <th>9</th>\n",
       "      <th>10</th>\n",
       "      <th>11</th>\n",
       "      <th>12</th>\n",
       "      <th>13</th>\n",
       "      <th>14</th>\n",
       "      <th>DEFUNCION</th>\n",
       "    </tr>\n",
       "  </thead>\n",
       "  <tbody>\n",
       "    <tr>\n",
       "      <th>0</th>\n",
       "      <td>2.512231</td>\n",
       "      <td>0.088238</td>\n",
       "      <td>0.145585</td>\n",
       "      <td>0.120013</td>\n",
       "      <td>0.02044</td>\n",
       "      <td>0.048416</td>\n",
       "      <td>0.043871</td>\n",
       "      <td>0.028179</td>\n",
       "      <td>0.112447</td>\n",
       "      <td>1.065000</td>\n",
       "      <td>1.935340</td>\n",
       "      <td>-0.07302</td>\n",
       "      <td>-0.258417</td>\n",
       "      <td>-0.021438</td>\n",
       "      <td>0.284409</td>\n",
       "      <td>2.0</td>\n",
       "    </tr>\n",
       "    <tr>\n",
       "      <th>1</th>\n",
       "      <td>-0.150693</td>\n",
       "      <td>0.088238</td>\n",
       "      <td>0.145585</td>\n",
       "      <td>0.120013</td>\n",
       "      <td>0.02044</td>\n",
       "      <td>0.048416</td>\n",
       "      <td>0.043871</td>\n",
       "      <td>0.028179</td>\n",
       "      <td>0.112447</td>\n",
       "      <td>-0.938967</td>\n",
       "      <td>-0.516705</td>\n",
       "      <td>-0.07302</td>\n",
       "      <td>-0.258417</td>\n",
       "      <td>46.646641</td>\n",
       "      <td>-3.516066</td>\n",
       "      <td>2.0</td>\n",
       "    </tr>\n",
       "    <tr>\n",
       "      <th>2</th>\n",
       "      <td>-0.660614</td>\n",
       "      <td>0.088238</td>\n",
       "      <td>0.145585</td>\n",
       "      <td>0.120013</td>\n",
       "      <td>0.02044</td>\n",
       "      <td>0.048416</td>\n",
       "      <td>0.043871</td>\n",
       "      <td>0.028179</td>\n",
       "      <td>0.112447</td>\n",
       "      <td>-0.938967</td>\n",
       "      <td>-0.516705</td>\n",
       "      <td>-0.07302</td>\n",
       "      <td>-0.258417</td>\n",
       "      <td>-0.021438</td>\n",
       "      <td>0.284409</td>\n",
       "      <td>2.0</td>\n",
       "    </tr>\n",
       "    <tr>\n",
       "      <th>3</th>\n",
       "      <td>-0.207351</td>\n",
       "      <td>0.088238</td>\n",
       "      <td>0.145585</td>\n",
       "      <td>0.120013</td>\n",
       "      <td>0.02044</td>\n",
       "      <td>0.048416</td>\n",
       "      <td>0.043871</td>\n",
       "      <td>0.028179</td>\n",
       "      <td>0.112447</td>\n",
       "      <td>-0.938967</td>\n",
       "      <td>-0.516705</td>\n",
       "      <td>-0.07302</td>\n",
       "      <td>-0.258417</td>\n",
       "      <td>-0.021438</td>\n",
       "      <td>0.284409</td>\n",
       "      <td>2.0</td>\n",
       "    </tr>\n",
       "    <tr>\n",
       "      <th>4</th>\n",
       "      <td>-1.113878</td>\n",
       "      <td>0.088238</td>\n",
       "      <td>0.145585</td>\n",
       "      <td>0.120013</td>\n",
       "      <td>0.02044</td>\n",
       "      <td>0.048416</td>\n",
       "      <td>0.043871</td>\n",
       "      <td>0.028179</td>\n",
       "      <td>0.112447</td>\n",
       "      <td>1.065000</td>\n",
       "      <td>1.935340</td>\n",
       "      <td>-0.07302</td>\n",
       "      <td>-0.258417</td>\n",
       "      <td>-0.021438</td>\n",
       "      <td>0.284409</td>\n",
       "      <td>2.0</td>\n",
       "    </tr>\n",
       "    <tr>\n",
       "      <th>...</th>\n",
       "      <td>...</td>\n",
       "      <td>...</td>\n",
       "      <td>...</td>\n",
       "      <td>...</td>\n",
       "      <td>...</td>\n",
       "      <td>...</td>\n",
       "      <td>...</td>\n",
       "      <td>...</td>\n",
       "      <td>...</td>\n",
       "      <td>...</td>\n",
       "      <td>...</td>\n",
       "      <td>...</td>\n",
       "      <td>...</td>\n",
       "      <td>...</td>\n",
       "      <td>...</td>\n",
       "      <td>...</td>\n",
       "    </tr>\n",
       "    <tr>\n",
       "      <th>23941</th>\n",
       "      <td>-1.283852</td>\n",
       "      <td>0.088238</td>\n",
       "      <td>0.145585</td>\n",
       "      <td>0.120013</td>\n",
       "      <td>0.02044</td>\n",
       "      <td>0.048416</td>\n",
       "      <td>0.043871</td>\n",
       "      <td>0.028179</td>\n",
       "      <td>0.112447</td>\n",
       "      <td>1.065000</td>\n",
       "      <td>-0.516705</td>\n",
       "      <td>-0.07302</td>\n",
       "      <td>-0.258417</td>\n",
       "      <td>-0.021438</td>\n",
       "      <td>0.284409</td>\n",
       "      <td>2.0</td>\n",
       "    </tr>\n",
       "    <tr>\n",
       "      <th>23942</th>\n",
       "      <td>-1.000562</td>\n",
       "      <td>0.088238</td>\n",
       "      <td>0.145585</td>\n",
       "      <td>0.120013</td>\n",
       "      <td>0.02044</td>\n",
       "      <td>0.048416</td>\n",
       "      <td>0.043871</td>\n",
       "      <td>0.028179</td>\n",
       "      <td>0.112447</td>\n",
       "      <td>-0.938967</td>\n",
       "      <td>-0.516705</td>\n",
       "      <td>-0.07302</td>\n",
       "      <td>-0.258417</td>\n",
       "      <td>-0.021438</td>\n",
       "      <td>0.284409</td>\n",
       "      <td>2.0</td>\n",
       "    </tr>\n",
       "    <tr>\n",
       "      <th>23943</th>\n",
       "      <td>1.039124</td>\n",
       "      <td>-11.333042</td>\n",
       "      <td>0.145585</td>\n",
       "      <td>0.120013</td>\n",
       "      <td>0.02044</td>\n",
       "      <td>0.048416</td>\n",
       "      <td>0.043871</td>\n",
       "      <td>0.028179</td>\n",
       "      <td>0.112447</td>\n",
       "      <td>-0.938967</td>\n",
       "      <td>-0.516705</td>\n",
       "      <td>-0.07302</td>\n",
       "      <td>-0.258417</td>\n",
       "      <td>-0.021438</td>\n",
       "      <td>0.284409</td>\n",
       "      <td>2.0</td>\n",
       "    </tr>\n",
       "    <tr>\n",
       "      <th>23944</th>\n",
       "      <td>-0.660614</td>\n",
       "      <td>0.088238</td>\n",
       "      <td>0.145585</td>\n",
       "      <td>0.120013</td>\n",
       "      <td>0.02044</td>\n",
       "      <td>0.048416</td>\n",
       "      <td>0.043871</td>\n",
       "      <td>0.028179</td>\n",
       "      <td>0.112447</td>\n",
       "      <td>-0.938967</td>\n",
       "      <td>-0.516705</td>\n",
       "      <td>-0.07302</td>\n",
       "      <td>-0.258417</td>\n",
       "      <td>-0.021438</td>\n",
       "      <td>0.284409</td>\n",
       "      <td>2.0</td>\n",
       "    </tr>\n",
       "    <tr>\n",
       "      <th>23945</th>\n",
       "      <td>-1.227194</td>\n",
       "      <td>0.088238</td>\n",
       "      <td>0.145585</td>\n",
       "      <td>0.120013</td>\n",
       "      <td>0.02044</td>\n",
       "      <td>0.048416</td>\n",
       "      <td>0.043871</td>\n",
       "      <td>0.028179</td>\n",
       "      <td>0.112447</td>\n",
       "      <td>-0.938967</td>\n",
       "      <td>-0.516705</td>\n",
       "      <td>-0.07302</td>\n",
       "      <td>-0.258417</td>\n",
       "      <td>-0.021438</td>\n",
       "      <td>0.284409</td>\n",
       "      <td>2.0</td>\n",
       "    </tr>\n",
       "  </tbody>\n",
       "</table>\n",
       "<p>23946 rows × 16 columns</p>\n",
       "</div>"
      ],
      "text/plain": [
       "              0          1         2         3        4         5         6  \\\n",
       "0      2.512231   0.088238  0.145585  0.120013  0.02044  0.048416  0.043871   \n",
       "1     -0.150693   0.088238  0.145585  0.120013  0.02044  0.048416  0.043871   \n",
       "2     -0.660614   0.088238  0.145585  0.120013  0.02044  0.048416  0.043871   \n",
       "3     -0.207351   0.088238  0.145585  0.120013  0.02044  0.048416  0.043871   \n",
       "4     -1.113878   0.088238  0.145585  0.120013  0.02044  0.048416  0.043871   \n",
       "...         ...        ...       ...       ...      ...       ...       ...   \n",
       "23941 -1.283852   0.088238  0.145585  0.120013  0.02044  0.048416  0.043871   \n",
       "23942 -1.000562   0.088238  0.145585  0.120013  0.02044  0.048416  0.043871   \n",
       "23943  1.039124 -11.333042  0.145585  0.120013  0.02044  0.048416  0.043871   \n",
       "23944 -0.660614   0.088238  0.145585  0.120013  0.02044  0.048416  0.043871   \n",
       "23945 -1.227194   0.088238  0.145585  0.120013  0.02044  0.048416  0.043871   \n",
       "\n",
       "              7         8         9        10       11        12         13  \\\n",
       "0      0.028179  0.112447  1.065000  1.935340 -0.07302 -0.258417  -0.021438   \n",
       "1      0.028179  0.112447 -0.938967 -0.516705 -0.07302 -0.258417  46.646641   \n",
       "2      0.028179  0.112447 -0.938967 -0.516705 -0.07302 -0.258417  -0.021438   \n",
       "3      0.028179  0.112447 -0.938967 -0.516705 -0.07302 -0.258417  -0.021438   \n",
       "4      0.028179  0.112447  1.065000  1.935340 -0.07302 -0.258417  -0.021438   \n",
       "...         ...       ...       ...       ...      ...       ...        ...   \n",
       "23941  0.028179  0.112447  1.065000 -0.516705 -0.07302 -0.258417  -0.021438   \n",
       "23942  0.028179  0.112447 -0.938967 -0.516705 -0.07302 -0.258417  -0.021438   \n",
       "23943  0.028179  0.112447 -0.938967 -0.516705 -0.07302 -0.258417  -0.021438   \n",
       "23944  0.028179  0.112447 -0.938967 -0.516705 -0.07302 -0.258417  -0.021438   \n",
       "23945  0.028179  0.112447 -0.938967 -0.516705 -0.07302 -0.258417  -0.021438   \n",
       "\n",
       "             14  DEFUNCION  \n",
       "0      0.284409        2.0  \n",
       "1     -3.516066        2.0  \n",
       "2      0.284409        2.0  \n",
       "3      0.284409        2.0  \n",
       "4      0.284409        2.0  \n",
       "...         ...        ...  \n",
       "23941  0.284409        2.0  \n",
       "23942  0.284409        2.0  \n",
       "23943  0.284409        2.0  \n",
       "23944  0.284409        2.0  \n",
       "23945  0.284409        2.0  \n",
       "\n",
       "[23946 rows x 16 columns]"
      ]
     },
     "execution_count": 33,
     "metadata": {},
     "output_type": "execute_result"
    }
   ],
   "source": [
    "df"
   ]
  },
  {
   "cell_type": "code",
   "execution_count": 34,
   "metadata": {
    "metadata": {}
   },
   "outputs": [],
   "source": [
    "# Separar características y etiquetas\n",
    "X = df.drop(columns=['DEFUNCION'])\n",
    "y = df['DEFUNCION']"
   ]
  },
  {
   "cell_type": "code",
   "execution_count": 35,
   "metadata": {
    "metadata": {}
   },
   "outputs": [
    {
     "data": {
      "text/plain": [
       "(23946, 15)"
      ]
     },
     "execution_count": 35,
     "metadata": {},
     "output_type": "execute_result"
    }
   ],
   "source": [
    "X.shape"
   ]
  },
  {
   "cell_type": "code",
   "execution_count": 36,
   "metadata": {
    "metadata": {}
   },
   "outputs": [
    {
     "data": {
      "text/plain": [
       "(23946,)"
      ]
     },
     "execution_count": 36,
     "metadata": {},
     "output_type": "execute_result"
    }
   ],
   "source": [
    "y.shape"
   ]
  },
  {
   "cell_type": "code",
   "execution_count": 47,
   "metadata": {
    "metadata": {}
   },
   "outputs": [],
   "source": [
    "# Dividir datos en conjunto de entrenamiento y prueba\n",
    "X_train, X_test, y_train, y_test = train_test_split(X, y, test_size=0.2, random_state=42)"
   ]
  },
  {
   "cell_type": "code",
   "execution_count": 49,
   "metadata": {
    "metadata": {}
   },
   "outputs": [
    {
     "data": {
      "text/plain": [
       "(19156,)"
      ]
     },
     "execution_count": 49,
     "metadata": {},
     "output_type": "execute_result"
    }
   ],
   "source": [
    "y_train.shape"
   ]
  },
  {
   "cell_type": "markdown",
   "metadata": {},
   "source": [
    "## Ejecución de modelos"
   ]
  },
  {
   "cell_type": "code",
   "execution_count": 66,
   "metadata": {
    "metadata": {}
   },
   "outputs": [
    {
     "name": "stderr",
     "output_type": "stream",
     "text": [
      "/usr/local/lib/python3.10/site-packages/sklearn/metrics/_classification.py:1471: UndefinedMetricWarning: Precision and F-score are ill-defined and being set to 0.0 in labels with no predicted samples. Use `zero_division` parameter to control this behavior.\n",
      "  _warn_prf(average, modifier, msg_start, len(result))\n",
      "/usr/local/lib/python3.10/site-packages/sklearn/metrics/_classification.py:1471: UndefinedMetricWarning: Precision and F-score are ill-defined and being set to 0.0 in labels with no predicted samples. Use `zero_division` parameter to control this behavior.\n",
      "  _warn_prf(average, modifier, msg_start, len(result))\n",
      "/usr/local/lib/python3.10/site-packages/sklearn/metrics/_classification.py:1471: UndefinedMetricWarning: Precision and F-score are ill-defined and being set to 0.0 in labels with no predicted samples. Use `zero_division` parameter to control this behavior.\n",
      "  _warn_prf(average, modifier, msg_start, len(result))\n"
     ]
    },
    {
     "name": "stdout",
     "output_type": "stream",
     "text": [
      "Accuracy: 0.9964509394572025\n",
      "Confusion Matrix:\n",
      " [[   0   17]\n",
      " [   0 4773]]\n",
      "Classification Report:\n",
      "               precision    recall  f1-score   support\n",
      "\n",
      "         1.0       0.00      0.00      0.00        17\n",
      "         2.0       1.00      1.00      1.00      4773\n",
      "\n",
      "    accuracy                           1.00      4790\n",
      "   macro avg       0.50      0.50      0.50      4790\n",
      "weighted avg       0.99      1.00      0.99      4790\n",
      "\n"
     ]
    },
    {
     "ename": "FileNotFoundError",
     "evalue": "[Errno 2] No such file or directory: 'confusion_matrix.png'",
     "output_type": "error",
     "traceback": [
      "\u001b[0;31m---------------------------------------------------------------------------\u001b[0m",
      "\u001b[0;31mFileNotFoundError\u001b[0m                         Traceback (most recent call last)",
      "Cell \u001b[0;32mIn[66], line 42\u001b[0m\n\u001b[1;32m     39\u001b[0m     plt\u001b[38;5;241m.\u001b[39mtitle(\u001b[38;5;124m\"\u001b[39m\u001b[38;5;124mConfusion Matrix\u001b[39m\u001b[38;5;124m\"\u001b[39m)\n\u001b[1;32m     41\u001b[0m     \u001b[38;5;66;03m# Registra la figura en MLflow\u001b[39;00m\n\u001b[0;32m---> 42\u001b[0m     \u001b[43mmlflow\u001b[49m\u001b[38;5;241;43m.\u001b[39;49m\u001b[43mlog_artifact\u001b[49m\u001b[43m(\u001b[49m\u001b[38;5;124;43m\"\u001b[39;49m\u001b[38;5;124;43mconfusion_matrix.png\u001b[39;49m\u001b[38;5;124;43m\"\u001b[39;49m\u001b[43m)\u001b[49m\n\u001b[1;32m     44\u001b[0m \u001b[38;5;66;03m# Finaliza la ejecución\u001b[39;00m\n\u001b[1;32m     45\u001b[0m mlflow\u001b[38;5;241m.\u001b[39mend_run()\n",
      "File \u001b[0;32m/usr/local/lib/python3.10/site-packages/mlflow/tracking/fluent.py:1068\u001b[0m, in \u001b[0;36mlog_artifact\u001b[0;34m(local_path, artifact_path, run_id)\u001b[0m\n\u001b[1;32m   1040\u001b[0m \u001b[38;5;250m\u001b[39m\u001b[38;5;124;03m\"\"\"\u001b[39;00m\n\u001b[1;32m   1041\u001b[0m \u001b[38;5;124;03mLog a local file or directory as an artifact of the currently active run. If no run is\u001b[39;00m\n\u001b[1;32m   1042\u001b[0m \u001b[38;5;124;03mactive, this method will create a new active run.\u001b[39;00m\n\u001b[0;32m   (...)\u001b[0m\n\u001b[1;32m   1065\u001b[0m \u001b[38;5;124;03m            mlflow.log_artifact(path)\u001b[39;00m\n\u001b[1;32m   1066\u001b[0m \u001b[38;5;124;03m\"\"\"\u001b[39;00m\n\u001b[1;32m   1067\u001b[0m run_id \u001b[38;5;241m=\u001b[39m run_id \u001b[38;5;129;01mor\u001b[39;00m _get_or_start_run()\u001b[38;5;241m.\u001b[39minfo\u001b[38;5;241m.\u001b[39mrun_id\n\u001b[0;32m-> 1068\u001b[0m \u001b[43mMlflowClient\u001b[49m\u001b[43m(\u001b[49m\u001b[43m)\u001b[49m\u001b[38;5;241;43m.\u001b[39;49m\u001b[43mlog_artifact\u001b[49m\u001b[43m(\u001b[49m\u001b[43mrun_id\u001b[49m\u001b[43m,\u001b[49m\u001b[43m \u001b[49m\u001b[43mlocal_path\u001b[49m\u001b[43m,\u001b[49m\u001b[43m \u001b[49m\u001b[43martifact_path\u001b[49m\u001b[43m)\u001b[49m\n",
      "File \u001b[0;32m/usr/local/lib/python3.10/site-packages/mlflow/tracking/client.py:1878\u001b[0m, in \u001b[0;36mMlflowClient.log_artifact\u001b[0;34m(self, run_id, local_path, artifact_path)\u001b[0m\n\u001b[1;32m   1874\u001b[0m \u001b[38;5;28;01mif\u001b[39;00m run_id\u001b[38;5;241m.\u001b[39mstartswith(TRACE_REQUEST_ID_PREFIX):\n\u001b[1;32m   1875\u001b[0m     \u001b[38;5;28;01mraise\u001b[39;00m MlflowException(\n\u001b[1;32m   1876\u001b[0m         \u001b[38;5;124mf\u001b[39m\u001b[38;5;124m\"\u001b[39m\u001b[38;5;124mInvalid run id: \u001b[39m\u001b[38;5;132;01m{\u001b[39;00mrun_id\u001b[38;5;132;01m}\u001b[39;00m\u001b[38;5;124m. `log_artifact` run id must map to a valid run.\u001b[39m\u001b[38;5;124m\"\u001b[39m\n\u001b[1;32m   1877\u001b[0m     )\n\u001b[0;32m-> 1878\u001b[0m \u001b[38;5;28;43mself\u001b[39;49m\u001b[38;5;241;43m.\u001b[39;49m\u001b[43m_tracking_client\u001b[49m\u001b[38;5;241;43m.\u001b[39;49m\u001b[43mlog_artifact\u001b[49m\u001b[43m(\u001b[49m\u001b[43mrun_id\u001b[49m\u001b[43m,\u001b[49m\u001b[43m \u001b[49m\u001b[43mlocal_path\u001b[49m\u001b[43m,\u001b[49m\u001b[43m \u001b[49m\u001b[43martifact_path\u001b[49m\u001b[43m)\u001b[49m\n",
      "File \u001b[0;32m/usr/local/lib/python3.10/site-packages/mlflow/tracking/_tracking_service/client.py:815\u001b[0m, in \u001b[0;36mTrackingServiceClient.log_artifact\u001b[0;34m(self, run_id, local_path, artifact_path)\u001b[0m\n\u001b[1;32m    813\u001b[0m     artifact_repo\u001b[38;5;241m.\u001b[39mlog_artifacts(local_path, path_name)\n\u001b[1;32m    814\u001b[0m \u001b[38;5;28;01melse\u001b[39;00m:\n\u001b[0;32m--> 815\u001b[0m     \u001b[43martifact_repo\u001b[49m\u001b[38;5;241;43m.\u001b[39;49m\u001b[43mlog_artifact\u001b[49m\u001b[43m(\u001b[49m\u001b[43mlocal_path\u001b[49m\u001b[43m,\u001b[49m\u001b[43m \u001b[49m\u001b[43martifact_path\u001b[49m\u001b[43m)\u001b[49m\n",
      "File \u001b[0;32m/usr/local/lib/python3.10/site-packages/mlflow/store/artifact/http_artifact_repo.py:62\u001b[0m, in \u001b[0;36mHttpArtifactRepository.log_artifact\u001b[0;34m(self, local_file, artifact_path)\u001b[0m\n\u001b[1;32m     60\u001b[0m endpoint \u001b[38;5;241m=\u001b[39m posixpath\u001b[38;5;241m.\u001b[39mjoin(\u001b[38;5;124m\"\u001b[39m\u001b[38;5;124m/\u001b[39m\u001b[38;5;124m\"\u001b[39m, \u001b[38;5;241m*\u001b[39mpaths)\n\u001b[1;32m     61\u001b[0m extra_headers \u001b[38;5;241m=\u001b[39m {\u001b[38;5;124m\"\u001b[39m\u001b[38;5;124mContent-Type\u001b[39m\u001b[38;5;124m\"\u001b[39m: mime_type}\n\u001b[0;32m---> 62\u001b[0m \u001b[38;5;28;01mwith\u001b[39;00m \u001b[38;5;28;43mopen\u001b[39;49m\u001b[43m(\u001b[49m\u001b[43mlocal_file\u001b[49m\u001b[43m,\u001b[49m\u001b[43m \u001b[49m\u001b[38;5;124;43m\"\u001b[39;49m\u001b[38;5;124;43mrb\u001b[39;49m\u001b[38;5;124;43m\"\u001b[39;49m\u001b[43m)\u001b[49m \u001b[38;5;28;01mas\u001b[39;00m f:\n\u001b[1;32m     63\u001b[0m     resp \u001b[38;5;241m=\u001b[39m http_request(\n\u001b[1;32m     64\u001b[0m         \u001b[38;5;28mself\u001b[39m\u001b[38;5;241m.\u001b[39m_host_creds, endpoint, \u001b[38;5;124m\"\u001b[39m\u001b[38;5;124mPUT\u001b[39m\u001b[38;5;124m\"\u001b[39m, data\u001b[38;5;241m=\u001b[39mf, extra_headers\u001b[38;5;241m=\u001b[39mextra_headers\n\u001b[1;32m     65\u001b[0m     )\n\u001b[1;32m     66\u001b[0m     augmented_raise_for_status(resp)\n",
      "\u001b[0;31mFileNotFoundError\u001b[0m: [Errno 2] No such file or directory: 'confusion_matrix.png'"
     ]
    },
    {
     "data": {
      "image/png": "[encoded data removed]",
      "text/plain": [
       "<Figure size 1000x700 with 2 Axes>"
      ]
     },
     "metadata": {},
     "output_type": "display_data"
    }
   ],
   "source": [
    "# Inicia una nueva ejecución en MLflow\n",
    "with mlflow.start_run(run_name=\"logistic Regression 1\"):\n",
    "    # Inicializa el modelo de Regresión Logística con los hiperparámetros\n",
    "    log_regression = LogisticRegression(max_iter=1000)\n",
    "\n",
    "    # Entrena el modelo en los datos de entrenamiento\n",
    "    log_regression.fit(X_train, y_train)\n",
    "\n",
    "    # Realiza predicciones en el conjunto de prueba\n",
    "    y_pred = log_regression.predict(X_test)\n",
    "\n",
    "    # Evalúa el rendimiento del modelo\n",
    "    accuracy = accuracy_score(y_test, y_pred)\n",
    "    conf_matrix = confusion_matrix(y_test, y_pred)\n",
    "    classification_rep = classification_report(y_test, y_pred)\n",
    "\n",
    "    # Imprime las métricas de evaluación\n",
    "    print(\"Accuracy:\", accuracy)\n",
    "    print(\"Confusion Matrix:\\n\", conf_matrix)\n",
    "    print(\"Classification Report:\\n\", classification_rep)\n",
    "\n",
    "    # Registra los hiperparámetros en MLflow\n",
    "    mlflow.log_param(\"max_iter\", 1000)\n",
    "    mlflow.log_param(\"solver\", \"lbfgs\")\n",
    "    mlflow.log_param(\"multi_class\", \"auto\")\n",
    "    mlflow.log_param(\"random_state\", 8888)\n",
    "\n",
    "    # Registra las métricas en MLflow\n",
    "    mlflow.log_metric(\"accuracy\", accuracy)\n",
    "\n",
    "    # Guarda el modelo en MLflow\n",
    "    mlflow.sklearn.log_model(log_regression, \"logistic_regression_model\")\n",
    "\n",
    "    # Guarda la matriz de confusión como un artefacto\n",
    "    plt.figure(figsize=(10, 7))\n",
    "    sns.heatmap(conf_matrix, annot=True, fmt=\"d\", cmap=\"Blues\", xticklabels=np.unique(y_test), yticklabels=np.unique(y_test))\n",
    "    plt.xlabel(\"Predicted\")\n",
    "    plt.ylabel(\"Actual\")\n",
    "    plt.title(\"Confusion Matrix\")\n",
    "\n",
    "    # Registra la figura en MLflow\n",
    "    mlflow.log_artifact(\"confusion_matrix.png\")\n",
    "\n",
    "# Finaliza la ejecución\n",
    "mlflow.end_run()"
   ]
  },
  {
   "cell_type": "code",
   "execution_count": null,
   "metadata": {
    "metadata": {}
   },
   "outputs": [
    {
     "data": {
      "image/png": "[encoded data removed]",
      "text/plain": [
       "<Figure size 1000x700 with 2 Axes>"
      ]
     },
     "metadata": {},
     "output_type": "display_data"
    },
    {
     "data": {
      "image/png": "[encoded data removed]",
      "text/plain": [
       "<Figure size 1000x700 with 2 Axes>"
      ]
     },
     "metadata": {},
     "output_type": "display_data"
    },
    {
     "data": {
      "image/png": "[encoded data removed]",
      "text/plain": [
       "<Figure size 1000x700 with 2 Axes>"
      ]
     },
     "metadata": {},
     "output_type": "display_data"
    },
    {
     "data": {
      "image/png": "[encoded data removed]",
      "text/plain": [
       "<Figure size 1000x700 with 2 Axes>"
      ]
     },
     "metadata": {},
     "output_type": "display_data"
    }
   ],
   "source": [
    "# Definir modelos\n",
    "models = {\n",
    "    \"Logistic Regression\": LogisticRegression(),\n",
    "    \"SVM\": SVC(probability=True),\n",
    "    \"Random Forest\": RandomForestClassifier(),\n",
    "    \"Gradient Boosting\": GradientBoostingClassifier()\n",
    "}\n",
    "\n",
    "# Entrenar y evaluar modelos\n",
    "with mlflow.start_run():\n",
    "    for name, model in models.items():\n",
    "        model.fit(X_train, y_train)\n",
    "        y_pred = model.predict(X_test)\n",
    "        \n",
    "        # Calcular métricas\n",
    "        accuracy = accuracy_score(y_test, y_pred)\n",
    "        f1 = f1_score(y_test, y_pred, average='weighted')\n",
    "        \n",
    "        # Calcular ROC AUC\n",
    "        y_prob = model.predict_proba(X_test)\n",
    "        roc_auc = roc_auc_score(y_test, y_prob[:, 1], multi_class='ovr')\n",
    "\n",
    "        # Guardar métricas en MLflow\n",
    "        mlflow.log_metric(f'{name} Accuracy', accuracy)\n",
    "        mlflow.log_metric(f'{name} F1 Score', f1)\n",
    "        mlflow.log_metric(f'{name} ROC AUC', roc_auc)\n",
    "        \n",
    "        # Guarda la matriz de confusión como un artefacto\n",
    "        conf_matrix = confusion_matrix(y_test, y_pred)\n",
    "        plt.figure(figsize=(10, 7))\n",
    "        sns.heatmap(conf_matrix, annot=True, fmt=\"d\", cmap=\"Blues\", xticklabels=np.unique(y_test), yticklabels=np.unique(y_test))\n",
    "        plt.xlabel(\"Predicted\")\n",
    "        plt.ylabel(\"Actual\")\n",
    "        plt.title(\"Confusion Matrix\")\n",
    "        \n",
    "        # Generar curva ROC\n",
    "        if model.__class__.__name__ != \"GradientBoostingClassifier\":  # Curva ROC no es aplicable para Gradient Boosting\n",
    "            fpr, tpr, _ = roc_curve(y_test, model.predict_proba(X_test)[:, 1], pos_label=model.classes_[1])\n",
    "            plt.figure()\n",
    "            plt.plot(fpr, tpr, color='darkorange', lw=2)\n",
    "            plt.plot([0, 1], [0, 1], color='navy', lw=2, linestyle='--')\n",
    "            plt.xlim([0.0, 1.0])\n",
    "            plt.ylim([0.0, 1.05])\n",
    "            plt.xlabel('False Positive Rate')\n",
    "            plt.ylabel('True Positive Rate')\n",
    "            plt.title(f'{name} ROC Curve')\n",
    "            plt.savefig(f'{name}_roc_curve.png')\n",
    "            plt.close()\n",
    "        \n",
    "    # Guardar gráficos en MLflow\n",
    "    mlflow.log_artifacts('.')"
   ]
  },
  {
   "cell_type": "code",
   "execution_count": null,
   "metadata": {},
   "outputs": [],
   "source": []
  }
 ],
 "metadata": {
  "kernelspec": {
   "display_name": "Python 3",
   "language": "python",
   "name": "python3"
  },
  "language_info": {
   "codemirror_mode": {
    "name": "ipython",
    "version": 3
   },
   "file_extension": ".py",
   "mimetype": "text/x-python",
   "name": "python",
   "nbconvert_exporter": "python",
   "pygments_lexer": "ipython3",
   "version": "3.10.14"
  }
 },
 "nbformat": 4,
 "nbformat_minor": 2
}
