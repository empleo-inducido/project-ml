{
 "cells": [
  {
   "cell_type": "code",
   "execution_count": 2,
   "metadata": {
    "metadata": {}
   },
   "outputs": [],
   "source": [
    "import pandas as pd\n",
    "from sklearn.model_selection import KFold, cross_val_score\n",
    "from sklearn.preprocessing import StandardScaler\n",
    "from sklearn.linear_model import LogisticRegression\n",
    "from sklearn.impute import SimpleImputer\n",
    "from sklearn.metrics import confusion_matrix\n",
    "import joblib"
   ]
  },
  {
   "cell_type": "markdown",
   "metadata": {},
   "source": [
    "## Preprocesamiento"
   ]
  },
  {
   "cell_type": "code",
   "execution_count": 3,
   "metadata": {
    "metadata": {}
   },
   "outputs": [],
   "source": [
    "train = pd.read_csv('../data/processed/train/train-dengue.csv')\n",
    "test = pd.read_csv('../data/processed/test/test-dengue.csv')"
   ]
  },
  {
   "cell_type": "code",
   "execution_count": 4,
   "metadata": {
    "metadata": {}
   },
   "outputs": [
    {
     "name": "stdout",
     "output_type": "stream",
     "text": [
      "(26146, 35)\n",
      "(26146, 35)\n"
     ]
    }
   ],
   "source": [
    "print(train.shape)\n",
    "print(test.shape)"
   ]
  },
  {
   "cell_type": "code",
   "execution_count": 5,
   "metadata": {
    "metadata": {}
   },
   "outputs": [
    {
     "data": {
      "text/plain": [
       "SEXO                      1094\n",
       "EDAD_ANOS                 1094\n",
       "ENTIDAD_RES               1094\n",
       "MUNICIPIO_RES             1094\n",
       "FECHA_SIGN_SINTOMAS       1094\n",
       "TIPO_PACIENTE             1094\n",
       "HEMORRAGICOS              1094\n",
       "DIABETES                  1094\n",
       "HIPERTENSION              1094\n",
       "ENFERMEDAD_ULC_PEPTICA    1094\n",
       "ENFERMEDAD_RENAL          1094\n",
       "INMUNOSUPR                1094\n",
       "CIRROSIS_HEPATICA         1094\n",
       "EMBARAZO                  1094\n",
       "DEFUNCION                 1094\n",
       "RESULTADO_PCR             1094\n",
       "ESTATUS_CASO              1094\n",
       "PCA_GEOGRAFICO_1          1106\n",
       "PCA_GEOGRAFICO_2          1106\n",
       "PCA_GEOGRAFICO_3          1106\n",
       "PCA_GEOGRAFICO_4          1106\n",
       "PCA_GEOGRAFICO_5          1106\n",
       "PCA_GEOGRAFICO_6          1106\n",
       "PCA_GEOGRAFICO_7          1106\n",
       "PCA_GEOGRAFICO_8          1106\n",
       "PCA_GEOGRAFICO_9          1106\n",
       "PCA_GEOGRAFICO_10         1106\n",
       "PCA_GEOGRAFICO_11         1106\n",
       "PCA_COMORBILIDAD_1        1106\n",
       "PCA_COMORBILIDAD_2        1106\n",
       "PCA_COMORBILIDAD_3        1106\n",
       "ANO_SIGN_SINTOMAS         1094\n",
       "MES_SIGN_SINTOMAS         1094\n",
       "DIA_SIGN_SINTOMAS         1094\n",
       "SEMANA_SIGN_SINTOMAS      1094\n",
       "dtype: int64"
      ]
     },
     "execution_count": 5,
     "metadata": {},
     "output_type": "execute_result"
    }
   ],
   "source": [
    "train.isna().sum()"
   ]
  },
  {
   "cell_type": "code",
   "execution_count": 6,
   "metadata": {
    "metadata": {}
   },
   "outputs": [
    {
     "data": {
      "text/plain": [
       "SEXO                      1119\n",
       "EDAD_ANOS                 1119\n",
       "ENTIDAD_RES               1119\n",
       "MUNICIPIO_RES             1119\n",
       "FECHA_SIGN_SINTOMAS       1119\n",
       "TIPO_PACIENTE             1119\n",
       "HEMORRAGICOS              1119\n",
       "DIABETES                  1119\n",
       "HIPERTENSION              1119\n",
       "ENFERMEDAD_ULC_PEPTICA    1119\n",
       "ENFERMEDAD_RENAL          1119\n",
       "INMUNOSUPR                1119\n",
       "CIRROSIS_HEPATICA         1119\n",
       "EMBARAZO                  1119\n",
       "DEFUNCION                 1119\n",
       "RESULTADO_PCR             1119\n",
       "ESTATUS_CASO              1119\n",
       "PCA_GEOGRAFICO_1          1107\n",
       "PCA_GEOGRAFICO_2          1107\n",
       "PCA_GEOGRAFICO_3          1107\n",
       "PCA_GEOGRAFICO_4          1107\n",
       "PCA_GEOGRAFICO_5          1107\n",
       "PCA_GEOGRAFICO_6          1107\n",
       "PCA_GEOGRAFICO_7          1107\n",
       "PCA_GEOGRAFICO_8          1107\n",
       "PCA_GEOGRAFICO_9          1107\n",
       "PCA_GEOGRAFICO_10         1107\n",
       "PCA_GEOGRAFICO_11         1107\n",
       "PCA_COMORBILIDAD_1        1107\n",
       "PCA_COMORBILIDAD_2        1107\n",
       "PCA_COMORBILIDAD_3        1107\n",
       "ANO_SIGN_SINTOMAS         1119\n",
       "MES_SIGN_SINTOMAS         1119\n",
       "DIA_SIGN_SINTOMAS         1119\n",
       "SEMANA_SIGN_SINTOMAS      1119\n",
       "dtype: int64"
      ]
     },
     "execution_count": 6,
     "metadata": {},
     "output_type": "execute_result"
    }
   ],
   "source": [
    "test.isna().sum()"
   ]
  },
  {
   "cell_type": "code",
   "execution_count": 10,
   "metadata": {
    "metadata": {}
   },
   "outputs": [],
   "source": [
    "train.dropna(inplace=True)\n",
    "test.dropna(inplace=True)"
   ]
  },
  {
   "cell_type": "markdown",
   "metadata": {},
   "source": [
    "## Clases desbalanceadas"
   ]
  },
  {
   "cell_type": "code",
   "execution_count": 8,
   "metadata": {},
   "outputs": [
    {
     "data": {
      "text/plain": [
       "DEFUNCION\n",
       "2.0    23864\n",
       "1.0       82\n",
       "Name: count, dtype: int64"
      ]
     },
     "execution_count": 8,
     "metadata": {},
     "output_type": "execute_result"
    }
   ],
   "source": [
    "train['DEFUNCION'].value_counts()"
   ]
  },
  {
   "cell_type": "code",
   "execution_count": 9,
   "metadata": {},
   "outputs": [
    {
     "data": {
      "text/plain": [
       "DEFUNCION\n",
       "2.0    23829\n",
       "1.0       91\n",
       "Name: count, dtype: int64"
      ]
     },
     "execution_count": 9,
     "metadata": {},
     "output_type": "execute_result"
    }
   ],
   "source": [
    "test['DEFUNCION'].value_counts()"
   ]
  },
  {
   "cell_type": "markdown",
   "metadata": {},
   "source": [
    "Realizamos un oversampling de la clase minoritaria"
   ]
  },
  {
   "cell_type": "code",
   "execution_count": 13,
   "metadata": {},
   "outputs": [],
   "source": [
    "#pip install imbalanced-learn"
   ]
  },
  {
   "cell_type": "code",
   "execution_count": 18,
   "metadata": {},
   "outputs": [
    {
     "name": "stdout",
     "output_type": "stream",
     "text": [
      "DEFUNCION\n",
      "2.0    23864\n",
      "1.0    23864\n",
      "Name: count, dtype: int64\n"
     ]
    }
   ],
   "source": [
    "from imblearn.over_sampling import RandomOverSampler\n",
    "\n",
    "# Separar las características (X) y la variable objetivo (y)\n",
    "X_train = train.drop(columns=['DEFUNCION'])\n",
    "y_train = train['DEFUNCION']\n",
    "\n",
    "# Crear una instancia de RandomOverSampler\n",
    "ros = RandomOverSampler(random_state=42)\n",
    "\n",
    "# Aplicar el sobremuestreo\n",
    "X_resampled, y_resampled = ros.fit_resample(X_train, y_train)\n",
    "\n",
    "# Verificar las nuevas distribuciones de clases\n",
    "print(y_resampled.value_counts())"
   ]
  },
  {
   "cell_type": "code",
   "execution_count": 19,
   "metadata": {},
   "outputs": [
    {
     "name": "stdout",
     "output_type": "stream",
     "text": [
      "DEFUNCION\n",
      "2.0    23829\n",
      "1.0    23829\n",
      "Name: count, dtype: int64\n"
     ]
    }
   ],
   "source": [
    "# Separar las características (X) y la variable objetivo (y)\n",
    "X_test = test.drop(columns=['DEFUNCION'])\n",
    "y_test = test['DEFUNCION']\n",
    "\n",
    "# Crear una instancia de RandomOverSampler\n",
    "ros = RandomOverSampler(random_state=42)\n",
    "\n",
    "# Aplicar el sobremuestreo\n",
    "X_resampled, y_resampled = ros.fit_resample(X_test, y_test)\n",
    "\n",
    "# Verificar las nuevas distribuciones de clases\n",
    "print(y_resampled.value_counts())"
   ]
  },
  {
   "cell_type": "code",
   "execution_count": 32,
   "metadata": {
    "metadata": {}
   },
   "outputs": [
    {
     "data": {
      "text/plain": [
       "['scaler.joblib']"
      ]
     },
     "execution_count": 32,
     "metadata": {},
     "output_type": "execute_result"
    }
   ],
   "source": [
    "# Seleccionar columnas relevantes\n",
    "relevant_columns = ['SEXO', 'EDAD_ANOS', 'TIPO_PACIENTE', 'HEMORRAGICOS', 'DIABETES',\n",
    "                    'HIPERTENSION', 'ENFERMEDAD_ULC_PEPTICA', 'ENFERMEDAD_RENAL',\n",
    "                    'INMUNOSUPR', 'CIRROSIS_HEPATICA', 'EMBARAZO', 'RESULTADO_PCR', 'DEFUNCION']\n",
    "\n",
    "X_train = train[relevant_columns]\n",
    "X_test = test[relevant_columns]\n",
    "\n",
    "# Preprocesar datos (dummy variables para categorías)\n",
    "X_train = pd.get_dummies(X_train, columns=['SEXO', 'TIPO_PACIENTE', 'RESULTADO_PCR'], drop_first=True)\n",
    "X_test = pd.get_dummies(X_test, columns=['SEXO', 'TIPO_PACIENTE', 'RESULTADO_PCR'], drop_first=True)\n",
    "\n",
    "# Normalizar datos\n",
    "scaler = StandardScaler()\n",
    "X_train = scaler.fit_transform(X_train)\n",
    "X_test = scaler.transform(X_test)\n",
    "\n",
    "# Generar los dataframes de entrenamiento y test\n",
    "train_df = pd.DataFrame(X_train, columns=[str(i) for i in range(X_train.shape[1])])\n",
    "train_df['DEFUNCION'] = y_train.values\n",
    "\n",
    "test_df = pd.DataFrame(X_test, columns=[str(i) for i in range(X_train.shape[1])])\n",
    "test_df['DEFUNCION'] = y_test.values\n",
    "\n",
    "# Guardar los datos preprocesados\n",
    "train_df.to_parquet('processed_train_data.parquet')\n",
    "test_df.to_parquet('processed_test_data.parquet')\n",
    "joblib.dump(scaler, 'scaler.joblib')"
   ]
  },
  {
   "cell_type": "code",
   "execution_count": 34,
   "metadata": {
    "metadata": {}
   },
   "outputs": [
    {
     "data": {
      "text/html": [
       "<div>\n",
       "<style scoped>\n",
       "    .dataframe tbody tr th:only-of-type {\n",
       "        vertical-align: middle;\n",
       "    }\n",
       "\n",
       "    .dataframe tbody tr th {\n",
       "        vertical-align: top;\n",
       "    }\n",
       "\n",
       "    .dataframe thead th {\n",
       "        text-align: right;\n",
       "    }\n",
       "</style>\n",
       "<table border=\"1\" class=\"dataframe\">\n",
       "  <thead>\n",
       "    <tr style=\"text-align: right;\">\n",
       "      <th></th>\n",
       "      <th>0</th>\n",
       "      <th>1</th>\n",
       "      <th>2</th>\n",
       "      <th>3</th>\n",
       "      <th>4</th>\n",
       "      <th>5</th>\n",
       "      <th>6</th>\n",
       "      <th>7</th>\n",
       "      <th>8</th>\n",
       "      <th>9</th>\n",
       "      <th>10</th>\n",
       "      <th>11</th>\n",
       "      <th>12</th>\n",
       "      <th>13</th>\n",
       "      <th>14</th>\n",
       "      <th>15</th>\n",
       "      <th>DEFUNCION</th>\n",
       "    </tr>\n",
       "  </thead>\n",
       "  <tbody>\n",
       "    <tr>\n",
       "      <th>0</th>\n",
       "      <td>2.512231</td>\n",
       "      <td>0.088238</td>\n",
       "      <td>0.145585</td>\n",
       "      <td>0.120013</td>\n",
       "      <td>0.02044</td>\n",
       "      <td>0.048416</td>\n",
       "      <td>0.043871</td>\n",
       "      <td>0.028179</td>\n",
       "      <td>0.112447</td>\n",
       "      <td>0.058619</td>\n",
       "      <td>1.065000</td>\n",
       "      <td>1.935340</td>\n",
       "      <td>-0.07302</td>\n",
       "      <td>-0.258417</td>\n",
       "      <td>-0.021438</td>\n",
       "      <td>0.284409</td>\n",
       "      <td>2.0</td>\n",
       "    </tr>\n",
       "    <tr>\n",
       "      <th>1</th>\n",
       "      <td>-0.150693</td>\n",
       "      <td>0.088238</td>\n",
       "      <td>0.145585</td>\n",
       "      <td>0.120013</td>\n",
       "      <td>0.02044</td>\n",
       "      <td>0.048416</td>\n",
       "      <td>0.043871</td>\n",
       "      <td>0.028179</td>\n",
       "      <td>0.112447</td>\n",
       "      <td>0.058619</td>\n",
       "      <td>-0.938967</td>\n",
       "      <td>-0.516705</td>\n",
       "      <td>-0.07302</td>\n",
       "      <td>-0.258417</td>\n",
       "      <td>46.646641</td>\n",
       "      <td>-3.516066</td>\n",
       "      <td>2.0</td>\n",
       "    </tr>\n",
       "    <tr>\n",
       "      <th>2</th>\n",
       "      <td>-0.660614</td>\n",
       "      <td>0.088238</td>\n",
       "      <td>0.145585</td>\n",
       "      <td>0.120013</td>\n",
       "      <td>0.02044</td>\n",
       "      <td>0.048416</td>\n",
       "      <td>0.043871</td>\n",
       "      <td>0.028179</td>\n",
       "      <td>0.112447</td>\n",
       "      <td>0.058619</td>\n",
       "      <td>-0.938967</td>\n",
       "      <td>-0.516705</td>\n",
       "      <td>-0.07302</td>\n",
       "      <td>-0.258417</td>\n",
       "      <td>-0.021438</td>\n",
       "      <td>0.284409</td>\n",
       "      <td>2.0</td>\n",
       "    </tr>\n",
       "    <tr>\n",
       "      <th>3</th>\n",
       "      <td>-0.207351</td>\n",
       "      <td>0.088238</td>\n",
       "      <td>0.145585</td>\n",
       "      <td>0.120013</td>\n",
       "      <td>0.02044</td>\n",
       "      <td>0.048416</td>\n",
       "      <td>0.043871</td>\n",
       "      <td>0.028179</td>\n",
       "      <td>0.112447</td>\n",
       "      <td>0.058619</td>\n",
       "      <td>-0.938967</td>\n",
       "      <td>-0.516705</td>\n",
       "      <td>-0.07302</td>\n",
       "      <td>-0.258417</td>\n",
       "      <td>-0.021438</td>\n",
       "      <td>0.284409</td>\n",
       "      <td>2.0</td>\n",
       "    </tr>\n",
       "    <tr>\n",
       "      <th>4</th>\n",
       "      <td>-1.113878</td>\n",
       "      <td>0.088238</td>\n",
       "      <td>0.145585</td>\n",
       "      <td>0.120013</td>\n",
       "      <td>0.02044</td>\n",
       "      <td>0.048416</td>\n",
       "      <td>0.043871</td>\n",
       "      <td>0.028179</td>\n",
       "      <td>0.112447</td>\n",
       "      <td>0.058619</td>\n",
       "      <td>1.065000</td>\n",
       "      <td>1.935340</td>\n",
       "      <td>-0.07302</td>\n",
       "      <td>-0.258417</td>\n",
       "      <td>-0.021438</td>\n",
       "      <td>0.284409</td>\n",
       "      <td>2.0</td>\n",
       "    </tr>\n",
       "  </tbody>\n",
       "</table>\n",
       "</div>"
      ],
      "text/plain": [
       "          0         1         2         3        4         5         6  \\\n",
       "0  2.512231  0.088238  0.145585  0.120013  0.02044  0.048416  0.043871   \n",
       "1 -0.150693  0.088238  0.145585  0.120013  0.02044  0.048416  0.043871   \n",
       "2 -0.660614  0.088238  0.145585  0.120013  0.02044  0.048416  0.043871   \n",
       "3 -0.207351  0.088238  0.145585  0.120013  0.02044  0.048416  0.043871   \n",
       "4 -1.113878  0.088238  0.145585  0.120013  0.02044  0.048416  0.043871   \n",
       "\n",
       "          7         8         9        10        11       12        13  \\\n",
       "0  0.028179  0.112447  0.058619  1.065000  1.935340 -0.07302 -0.258417   \n",
       "1  0.028179  0.112447  0.058619 -0.938967 -0.516705 -0.07302 -0.258417   \n",
       "2  0.028179  0.112447  0.058619 -0.938967 -0.516705 -0.07302 -0.258417   \n",
       "3  0.028179  0.112447  0.058619 -0.938967 -0.516705 -0.07302 -0.258417   \n",
       "4  0.028179  0.112447  0.058619  1.065000  1.935340 -0.07302 -0.258417   \n",
       "\n",
       "          14        15  DEFUNCION  \n",
       "0  -0.021438  0.284409        2.0  \n",
       "1  46.646641 -3.516066        2.0  \n",
       "2  -0.021438  0.284409        2.0  \n",
       "3  -0.021438  0.284409        2.0  \n",
       "4  -0.021438  0.284409        2.0  "
      ]
     },
     "execution_count": 34,
     "metadata": {},
     "output_type": "execute_result"
    }
   ],
   "source": [
    "train_df.head()"
   ]
  },
  {
   "cell_type": "code",
   "execution_count": 35,
   "metadata": {},
   "outputs": [
    {
     "data": {
      "text/html": [
       "<div>\n",
       "<style scoped>\n",
       "    .dataframe tbody tr th:only-of-type {\n",
       "        vertical-align: middle;\n",
       "    }\n",
       "\n",
       "    .dataframe tbody tr th {\n",
       "        vertical-align: top;\n",
       "    }\n",
       "\n",
       "    .dataframe thead th {\n",
       "        text-align: right;\n",
       "    }\n",
       "</style>\n",
       "<table border=\"1\" class=\"dataframe\">\n",
       "  <thead>\n",
       "    <tr style=\"text-align: right;\">\n",
       "      <th></th>\n",
       "      <th>0</th>\n",
       "      <th>1</th>\n",
       "      <th>2</th>\n",
       "      <th>3</th>\n",
       "      <th>4</th>\n",
       "      <th>5</th>\n",
       "      <th>6</th>\n",
       "      <th>7</th>\n",
       "      <th>8</th>\n",
       "      <th>9</th>\n",
       "      <th>10</th>\n",
       "      <th>11</th>\n",
       "      <th>12</th>\n",
       "      <th>13</th>\n",
       "      <th>14</th>\n",
       "      <th>15</th>\n",
       "      <th>DEFUNCION</th>\n",
       "    </tr>\n",
       "  </thead>\n",
       "  <tbody>\n",
       "    <tr>\n",
       "      <th>0</th>\n",
       "      <td>-0.320667</td>\n",
       "      <td>0.088238</td>\n",
       "      <td>0.145585</td>\n",
       "      <td>0.120013</td>\n",
       "      <td>0.02044</td>\n",
       "      <td>0.048416</td>\n",
       "      <td>0.043871</td>\n",
       "      <td>0.028179</td>\n",
       "      <td>0.112447</td>\n",
       "      <td>0.058619</td>\n",
       "      <td>1.065000</td>\n",
       "      <td>-0.516705</td>\n",
       "      <td>-0.07302</td>\n",
       "      <td>-0.258417</td>\n",
       "      <td>-0.021438</td>\n",
       "      <td>0.284409</td>\n",
       "      <td>2.0</td>\n",
       "    </tr>\n",
       "    <tr>\n",
       "      <th>1</th>\n",
       "      <td>-0.320667</td>\n",
       "      <td>0.088238</td>\n",
       "      <td>0.145585</td>\n",
       "      <td>0.120013</td>\n",
       "      <td>0.02044</td>\n",
       "      <td>0.048416</td>\n",
       "      <td>0.043871</td>\n",
       "      <td>0.028179</td>\n",
       "      <td>0.112447</td>\n",
       "      <td>0.058619</td>\n",
       "      <td>-0.938967</td>\n",
       "      <td>-0.516705</td>\n",
       "      <td>-0.07302</td>\n",
       "      <td>3.869709</td>\n",
       "      <td>-0.021438</td>\n",
       "      <td>-3.516066</td>\n",
       "      <td>2.0</td>\n",
       "    </tr>\n",
       "    <tr>\n",
       "      <th>2</th>\n",
       "      <td>-1.283852</td>\n",
       "      <td>0.088238</td>\n",
       "      <td>0.145585</td>\n",
       "      <td>0.120013</td>\n",
       "      <td>0.02044</td>\n",
       "      <td>0.048416</td>\n",
       "      <td>0.043871</td>\n",
       "      <td>0.028179</td>\n",
       "      <td>0.112447</td>\n",
       "      <td>0.058619</td>\n",
       "      <td>1.065000</td>\n",
       "      <td>-0.516705</td>\n",
       "      <td>-0.07302</td>\n",
       "      <td>-0.258417</td>\n",
       "      <td>-0.021438</td>\n",
       "      <td>0.284409</td>\n",
       "      <td>2.0</td>\n",
       "    </tr>\n",
       "    <tr>\n",
       "      <th>3</th>\n",
       "      <td>-0.887246</td>\n",
       "      <td>0.088238</td>\n",
       "      <td>0.145585</td>\n",
       "      <td>0.120013</td>\n",
       "      <td>0.02044</td>\n",
       "      <td>0.048416</td>\n",
       "      <td>0.043871</td>\n",
       "      <td>0.028179</td>\n",
       "      <td>0.112447</td>\n",
       "      <td>0.058619</td>\n",
       "      <td>1.065000</td>\n",
       "      <td>1.935340</td>\n",
       "      <td>-0.07302</td>\n",
       "      <td>-0.258417</td>\n",
       "      <td>-0.021438</td>\n",
       "      <td>0.284409</td>\n",
       "      <td>2.0</td>\n",
       "    </tr>\n",
       "    <tr>\n",
       "      <th>4</th>\n",
       "      <td>0.019281</td>\n",
       "      <td>0.088238</td>\n",
       "      <td>0.145585</td>\n",
       "      <td>0.120013</td>\n",
       "      <td>0.02044</td>\n",
       "      <td>0.048416</td>\n",
       "      <td>0.043871</td>\n",
       "      <td>0.028179</td>\n",
       "      <td>0.112447</td>\n",
       "      <td>0.058619</td>\n",
       "      <td>-0.938967</td>\n",
       "      <td>-0.516705</td>\n",
       "      <td>-0.07302</td>\n",
       "      <td>-0.258417</td>\n",
       "      <td>-0.021438</td>\n",
       "      <td>0.284409</td>\n",
       "      <td>2.0</td>\n",
       "    </tr>\n",
       "  </tbody>\n",
       "</table>\n",
       "</div>"
      ],
      "text/plain": [
       "          0         1         2         3        4         5         6  \\\n",
       "0 -0.320667  0.088238  0.145585  0.120013  0.02044  0.048416  0.043871   \n",
       "1 -0.320667  0.088238  0.145585  0.120013  0.02044  0.048416  0.043871   \n",
       "2 -1.283852  0.088238  0.145585  0.120013  0.02044  0.048416  0.043871   \n",
       "3 -0.887246  0.088238  0.145585  0.120013  0.02044  0.048416  0.043871   \n",
       "4  0.019281  0.088238  0.145585  0.120013  0.02044  0.048416  0.043871   \n",
       "\n",
       "          7         8         9        10        11       12        13  \\\n",
       "0  0.028179  0.112447  0.058619  1.065000 -0.516705 -0.07302 -0.258417   \n",
       "1  0.028179  0.112447  0.058619 -0.938967 -0.516705 -0.07302  3.869709   \n",
       "2  0.028179  0.112447  0.058619  1.065000 -0.516705 -0.07302 -0.258417   \n",
       "3  0.028179  0.112447  0.058619  1.065000  1.935340 -0.07302 -0.258417   \n",
       "4  0.028179  0.112447  0.058619 -0.938967 -0.516705 -0.07302 -0.258417   \n",
       "\n",
       "         14        15  DEFUNCION  \n",
       "0 -0.021438  0.284409        2.0  \n",
       "1 -0.021438 -3.516066        2.0  \n",
       "2 -0.021438  0.284409        2.0  \n",
       "3 -0.021438  0.284409        2.0  \n",
       "4 -0.021438  0.284409        2.0  "
      ]
     },
     "execution_count": 35,
     "metadata": {},
     "output_type": "execute_result"
    }
   ],
   "source": [
    "test_df.head()"
   ]
  },
  {
   "cell_type": "code",
   "execution_count": 38,
   "metadata": {
    "metadata": {}
   },
   "outputs": [
    {
     "name": "stdout",
     "output_type": "stream",
     "text": [
      "Cross-validation accuracy scores: [1. 1. 1. 1. 1.]\n",
      "Mean cross-validation accuracy: 1.0\n"
     ]
    },
    {
     "data": {
      "text/plain": [
       "['logistic_regression_model.joblib']"
      ]
     },
     "execution_count": 38,
     "metadata": {},
     "output_type": "execute_result"
    }
   ],
   "source": [
    "# Construir y evaluar el modelo\n",
    "model = LogisticRegression()\n",
    "\n",
    "# K-Fold cross-validation\n",
    "kf = KFold(n_splits=5, random_state=42, shuffle=True)\n",
    "cv_results = cross_val_score(model, train_df.drop('DEFUNCION', axis=1), y_train, cv=kf, scoring='accuracy')\n",
    "\n",
    "print(f\"Cross-validation accuracy scores: {cv_results}\")\n",
    "print(f\"Mean cross-validation accuracy: {cv_results.mean()}\")\n",
    "\n",
    "# Entrenar el modelo en todo el conjunto de entrenamiento\n",
    "model.fit(train_df.drop('DEFUNCION', axis=1), train_df['DEFUNCION'])\n",
    "\n",
    "# Guardar el modelo\n",
    "joblib.dump(model, 'logistic_regression_model.joblib')"
   ]
  },
  {
   "cell_type": "code",
   "execution_count": 39,
   "metadata": {},
   "outputs": [
    {
     "ename": "ValueError",
     "evalue": "Found input variables with inconsistent numbers of samples: [23920, 23946]",
     "output_type": "error",
     "traceback": [
      "\u001b[0;31m---------------------------------------------------------------------------\u001b[0m",
      "\u001b[0;31mValueError\u001b[0m                                Traceback (most recent call last)",
      "Cell \u001b[0;32mIn[39], line 1\u001b[0m\n\u001b[0;32m----> 1\u001b[0m conf_matrix \u001b[38;5;241m=\u001b[39m \u001b[43mconfusion_matrix\u001b[49m\u001b[43m(\u001b[49m\u001b[43my_test\u001b[49m\u001b[43m,\u001b[49m\u001b[43m \u001b[49m\u001b[43my_train\u001b[49m\u001b[43m)\u001b[49m\n",
      "File \u001b[0;32m/usr/local/lib/python3.10/site-packages/sklearn/utils/_param_validation.py:214\u001b[0m, in \u001b[0;36mvalidate_params.<locals>.decorator.<locals>.wrapper\u001b[0;34m(*args, **kwargs)\u001b[0m\n\u001b[1;32m    208\u001b[0m \u001b[38;5;28;01mtry\u001b[39;00m:\n\u001b[1;32m    209\u001b[0m     \u001b[38;5;28;01mwith\u001b[39;00m config_context(\n\u001b[1;32m    210\u001b[0m         skip_parameter_validation\u001b[38;5;241m=\u001b[39m(\n\u001b[1;32m    211\u001b[0m             prefer_skip_nested_validation \u001b[38;5;129;01mor\u001b[39;00m global_skip_validation\n\u001b[1;32m    212\u001b[0m         )\n\u001b[1;32m    213\u001b[0m     ):\n\u001b[0;32m--> 214\u001b[0m         \u001b[38;5;28;01mreturn\u001b[39;00m \u001b[43mfunc\u001b[49m\u001b[43m(\u001b[49m\u001b[38;5;241;43m*\u001b[39;49m\u001b[43margs\u001b[49m\u001b[43m,\u001b[49m\u001b[43m \u001b[49m\u001b[38;5;241;43m*\u001b[39;49m\u001b[38;5;241;43m*\u001b[39;49m\u001b[43mkwargs\u001b[49m\u001b[43m)\u001b[49m\n\u001b[1;32m    215\u001b[0m \u001b[38;5;28;01mexcept\u001b[39;00m InvalidParameterError \u001b[38;5;28;01mas\u001b[39;00m e:\n\u001b[1;32m    216\u001b[0m     \u001b[38;5;66;03m# When the function is just a wrapper around an estimator, we allow\u001b[39;00m\n\u001b[1;32m    217\u001b[0m     \u001b[38;5;66;03m# the function to delegate validation to the estimator, but we replace\u001b[39;00m\n\u001b[1;32m    218\u001b[0m     \u001b[38;5;66;03m# the name of the estimator by the name of the function in the error\u001b[39;00m\n\u001b[1;32m    219\u001b[0m     \u001b[38;5;66;03m# message to avoid confusion.\u001b[39;00m\n\u001b[1;32m    220\u001b[0m     msg \u001b[38;5;241m=\u001b[39m re\u001b[38;5;241m.\u001b[39msub(\n\u001b[1;32m    221\u001b[0m         \u001b[38;5;124mr\u001b[39m\u001b[38;5;124m\"\u001b[39m\u001b[38;5;124mparameter of \u001b[39m\u001b[38;5;124m\\\u001b[39m\u001b[38;5;124mw+ must be\u001b[39m\u001b[38;5;124m\"\u001b[39m,\n\u001b[1;32m    222\u001b[0m         \u001b[38;5;124mf\u001b[39m\u001b[38;5;124m\"\u001b[39m\u001b[38;5;124mparameter of \u001b[39m\u001b[38;5;132;01m{\u001b[39;00mfunc\u001b[38;5;241m.\u001b[39m\u001b[38;5;18m__qualname__\u001b[39m\u001b[38;5;132;01m}\u001b[39;00m\u001b[38;5;124m must be\u001b[39m\u001b[38;5;124m\"\u001b[39m,\n\u001b[1;32m    223\u001b[0m         \u001b[38;5;28mstr\u001b[39m(e),\n\u001b[1;32m    224\u001b[0m     )\n",
      "File \u001b[0;32m/usr/local/lib/python3.10/site-packages/sklearn/metrics/_classification.py:326\u001b[0m, in \u001b[0;36mconfusion_matrix\u001b[0;34m(y_true, y_pred, labels, sample_weight, normalize)\u001b[0m\n\u001b[1;32m    231\u001b[0m \u001b[38;5;129m@validate_params\u001b[39m(\n\u001b[1;32m    232\u001b[0m     {\n\u001b[1;32m    233\u001b[0m         \u001b[38;5;124m\"\u001b[39m\u001b[38;5;124my_true\u001b[39m\u001b[38;5;124m\"\u001b[39m: [\u001b[38;5;124m\"\u001b[39m\u001b[38;5;124marray-like\u001b[39m\u001b[38;5;124m\"\u001b[39m],\n\u001b[0;32m   (...)\u001b[0m\n\u001b[1;32m    242\u001b[0m     y_true, y_pred, \u001b[38;5;241m*\u001b[39m, labels\u001b[38;5;241m=\u001b[39m\u001b[38;5;28;01mNone\u001b[39;00m, sample_weight\u001b[38;5;241m=\u001b[39m\u001b[38;5;28;01mNone\u001b[39;00m, normalize\u001b[38;5;241m=\u001b[39m\u001b[38;5;28;01mNone\u001b[39;00m\n\u001b[1;32m    243\u001b[0m ):\n\u001b[1;32m    244\u001b[0m \u001b[38;5;250m    \u001b[39m\u001b[38;5;124;03m\"\"\"Compute confusion matrix to evaluate the accuracy of a classification.\u001b[39;00m\n\u001b[1;32m    245\u001b[0m \n\u001b[1;32m    246\u001b[0m \u001b[38;5;124;03m    By definition a confusion matrix :math:`C` is such that :math:`C_{i, j}`\u001b[39;00m\n\u001b[0;32m   (...)\u001b[0m\n\u001b[1;32m    324\u001b[0m \u001b[38;5;124;03m    (0, 2, 1, 1)\u001b[39;00m\n\u001b[1;32m    325\u001b[0m \u001b[38;5;124;03m    \"\"\"\u001b[39;00m\n\u001b[0;32m--> 326\u001b[0m     y_type, y_true, y_pred \u001b[38;5;241m=\u001b[39m \u001b[43m_check_targets\u001b[49m\u001b[43m(\u001b[49m\u001b[43my_true\u001b[49m\u001b[43m,\u001b[49m\u001b[43m \u001b[49m\u001b[43my_pred\u001b[49m\u001b[43m)\u001b[49m\n\u001b[1;32m    327\u001b[0m     \u001b[38;5;28;01mif\u001b[39;00m y_type \u001b[38;5;129;01mnot\u001b[39;00m \u001b[38;5;129;01min\u001b[39;00m (\u001b[38;5;124m\"\u001b[39m\u001b[38;5;124mbinary\u001b[39m\u001b[38;5;124m\"\u001b[39m, \u001b[38;5;124m\"\u001b[39m\u001b[38;5;124mmulticlass\u001b[39m\u001b[38;5;124m\"\u001b[39m):\n\u001b[1;32m    328\u001b[0m         \u001b[38;5;28;01mraise\u001b[39;00m \u001b[38;5;167;01mValueError\u001b[39;00m(\u001b[38;5;124m\"\u001b[39m\u001b[38;5;132;01m%s\u001b[39;00m\u001b[38;5;124m is not supported\u001b[39m\u001b[38;5;124m\"\u001b[39m \u001b[38;5;241m%\u001b[39m y_type)\n",
      "File \u001b[0;32m/usr/local/lib/python3.10/site-packages/sklearn/metrics/_classification.py:84\u001b[0m, in \u001b[0;36m_check_targets\u001b[0;34m(y_true, y_pred)\u001b[0m\n\u001b[1;32m     57\u001b[0m \u001b[38;5;28;01mdef\u001b[39;00m \u001b[38;5;21m_check_targets\u001b[39m(y_true, y_pred):\n\u001b[1;32m     58\u001b[0m \u001b[38;5;250m    \u001b[39m\u001b[38;5;124;03m\"\"\"Check that y_true and y_pred belong to the same classification task.\u001b[39;00m\n\u001b[1;32m     59\u001b[0m \n\u001b[1;32m     60\u001b[0m \u001b[38;5;124;03m    This converts multiclass or binary types to a common shape, and raises a\u001b[39;00m\n\u001b[0;32m   (...)\u001b[0m\n\u001b[1;32m     82\u001b[0m \u001b[38;5;124;03m    y_pred : array or indicator matrix\u001b[39;00m\n\u001b[1;32m     83\u001b[0m \u001b[38;5;124;03m    \"\"\"\u001b[39;00m\n\u001b[0;32m---> 84\u001b[0m     \u001b[43mcheck_consistent_length\u001b[49m\u001b[43m(\u001b[49m\u001b[43my_true\u001b[49m\u001b[43m,\u001b[49m\u001b[43m \u001b[49m\u001b[43my_pred\u001b[49m\u001b[43m)\u001b[49m\n\u001b[1;32m     85\u001b[0m     type_true \u001b[38;5;241m=\u001b[39m type_of_target(y_true, input_name\u001b[38;5;241m=\u001b[39m\u001b[38;5;124m\"\u001b[39m\u001b[38;5;124my_true\u001b[39m\u001b[38;5;124m\"\u001b[39m)\n\u001b[1;32m     86\u001b[0m     type_pred \u001b[38;5;241m=\u001b[39m type_of_target(y_pred, input_name\u001b[38;5;241m=\u001b[39m\u001b[38;5;124m\"\u001b[39m\u001b[38;5;124my_pred\u001b[39m\u001b[38;5;124m\"\u001b[39m)\n",
      "File \u001b[0;32m/usr/local/lib/python3.10/site-packages/sklearn/utils/validation.py:407\u001b[0m, in \u001b[0;36mcheck_consistent_length\u001b[0;34m(*arrays)\u001b[0m\n\u001b[1;32m    405\u001b[0m uniques \u001b[38;5;241m=\u001b[39m np\u001b[38;5;241m.\u001b[39munique(lengths)\n\u001b[1;32m    406\u001b[0m \u001b[38;5;28;01mif\u001b[39;00m \u001b[38;5;28mlen\u001b[39m(uniques) \u001b[38;5;241m>\u001b[39m \u001b[38;5;241m1\u001b[39m:\n\u001b[0;32m--> 407\u001b[0m     \u001b[38;5;28;01mraise\u001b[39;00m \u001b[38;5;167;01mValueError\u001b[39;00m(\n\u001b[1;32m    408\u001b[0m         \u001b[38;5;124m\"\u001b[39m\u001b[38;5;124mFound input variables with inconsistent numbers of samples: \u001b[39m\u001b[38;5;132;01m%r\u001b[39;00m\u001b[38;5;124m\"\u001b[39m\n\u001b[1;32m    409\u001b[0m         \u001b[38;5;241m%\u001b[39m [\u001b[38;5;28mint\u001b[39m(l) \u001b[38;5;28;01mfor\u001b[39;00m l \u001b[38;5;129;01min\u001b[39;00m lengths]\n\u001b[1;32m    410\u001b[0m     )\n",
      "\u001b[0;31mValueError\u001b[0m: Found input variables with inconsistent numbers of samples: [23920, 23946]"
     ]
    }
   ],
   "source": [
    "conf_matrix = confusion_matrix(y_test, y_train)"
   ]
  },
  {
   "cell_type": "code",
   "execution_count": null,
   "metadata": {},
   "outputs": [],
   "source": []
  }
 ],
 "metadata": {
  "kernelspec": {
   "display_name": "Python 3",
   "language": "python",
   "name": "python3"
  },
  "language_info": {
   "codemirror_mode": {
    "name": "ipython",
    "version": 3
   },
   "file_extension": ".py",
   "mimetype": "text/x-python",
   "name": "python",
   "nbconvert_exporter": "python",
   "pygments_lexer": "ipython3",
   "version": "3.10.14"
  }
 },
 "nbformat": 4,
 "nbformat_minor": 2
}
