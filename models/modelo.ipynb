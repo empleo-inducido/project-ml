{
 "cells": [
  {
   "cell_type": "code",
   "execution_count": null,
   "metadata": {},
   "outputs": [],
   "source": [
    "import pandas as pd\n",
    "from sklearn.linear_model import LogisticRegression\n",
    "from sklearn.model_selection import GridSearchCV, cross_val_score, KFold\n",
    "from sklearn.metrics import accuracy_score, classification_report\n",
    "from sklearn.model_selection import cross_val_score\n",
    "from sklearn.preprocessing import StandardScaler\n",
    "import joblib\n",
    "\n",
    "train = pd.read_csv('../data/processed/train/train-dengue.csv')\n",
    "test = pd.read_csv('../data/processed/test/test-dengue.csv')"
   ]
  },
  {
   "cell_type": "code",
   "execution_count": null,
   "metadata": {},
   "outputs": [],
   "source": [
    "# Preprocesar datos (dummy variables para categorías)\n",
    "df_train = pd.get_dummies(train, columns=['SEXO', 'TIPO_PACIENTE', 'RESULTADO_PCR'], drop_first=True)\n",
    "\n",
    "# Separar características y etiqueta\n",
    "X_train = df_train.drop('ESTATUS_CASO', axis=1)\n",
    "y_train = df_train['ESTATUS_CASO']\n",
    "\n",
    "# Normalizar datos\n",
    "scaler = StandardScaler()\n",
    "X_train = scaler.fit_transform(X_train)\n",
    "\n",
    "# Convertir nombres de columnas a string\n",
    "X_train_df = pd.DataFrame(X_train, columns=[str(i) for i in range(X_train.shape[1])])\n",
    "X_train_df['ESTATUS_CASO'] = y_train.values\n",
    "\n",
    "# Guardar los datos preprocesados\n",
    "X_train_df.to_parquet('processed_train_data.parquet')\n",
    "joblib.dump(scaler, 'scaler.joblib')"
   ]
  },
  {
   "cell_type": "code",
   "execution_count": null,
   "metadata": {},
   "outputs": [],
   "source": [
    "# Construir y evaluar el modelo\n",
    "model = LogisticRegression(max_iter=1000)\n",
    "\n",
    "# K-Fold cross-validation\n",
    "kf = KFold(n_splits=5, random_state=42, shuffle=True)\n",
    "cv_results = cross_val_score(model, X_train, y_train, cv=kf, scoring='accuracy')\n",
    "\n",
    "print(f\"Cross-validation accuracy scores: {cv_results}\")\n",
    "print(f\"Mean cross-validation accuracy: {cv_results.mean()}\")\n",
    "\n",
    "# Entrenar el modelo en todo el conjunto de entrenamiento\n",
    "model.fit(X_train, y_train)"
   ]
  },
  {
   "cell_type": "code",
   "execution_count": null,
   "metadata": {},
   "outputs": [],
   "source": [
    "# Preprocesar datos de prueba\n",
    "df_test = pd.get_dummies(test, columns=['SEXO', 'TIPO_PACIENTE', 'RESULTADO_PCR'], drop_first=True)\n",
    "X_test = df_test.drop('ESTATUS_CASO', axis=1)\n",
    "y_test = df_test['ESTATUS_CASO']\n",
    "\n",
    "# Normalizar datos\n",
    "X_test = scaler.transform(X_test)"
   ]
  },
  {
   "cell_type": "code",
   "execution_count": null,
   "metadata": {},
   "outputs": [],
   "source": [
    "# Modelo de regresión logística\n",
    "model = LogisticRegression(max_iter=1000)\n",
    "\n",
    "# Ajuste de hiperparámetros\n",
    "param_grid = {'C': [0.001, 0.01, 0.1, 1, 10, 100]}  # Ejemplo de valores para ajustar\n",
    "grid_search = GridSearchCV(model, param_grid, cv=5)\n",
    "grid_search.fit(X_train, y_train)\n",
    "\n",
    "# Mejor modelo encontrado\n",
    "best_model = grid_search.best_estimator_\n",
    "\n",
    "# Predicción en el conjunto de prueba\n",
    "y_pred = best_model.predict(X_test)\n",
    "\n",
    "# Evaluación del modelo\n",
    "accuracy = accuracy_score(y_test, y_pred)\n",
    "report = classification_report(y_test, y_pred)\n",
    "\n",
    "print(f'Accuracy: {accuracy}')\n",
    "print('Classification Report:')\n",
    "print(report)"
   ]
  }
 ],
 "metadata": {
  "kernelspec": {
   "display_name": "Python 3",
   "language": "python",
   "name": "python3"
  },
  "language_info": {
   "name": "python",
   "version": "3.10.14"
  }
 },
 "nbformat": 4,
 "nbformat_minor": 2
}
