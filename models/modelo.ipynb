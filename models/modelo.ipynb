{
 "cells": [
  {
   "cell_type": "code",
   "execution_count": 5,
   "metadata": {
    "metadata": {}
   },
   "outputs": [],
   "source": [
    "import pandas as pd\n",
    "from sklearn.model_selection import KFold, cross_val_score\n",
    "from sklearn.preprocessing import StandardScaler\n",
    "from sklearn.linear_model import LogisticRegression\n",
    "from sklearn.impute import SimpleImputer\n",
    "import joblib"
   ]
  },
  {
   "cell_type": "markdown",
   "metadata": {},
   "source": [
    "## Preprocesamiento"
   ]
  },
  {
   "cell_type": "code",
   "execution_count": 6,
   "metadata": {
    "metadata": {}
   },
   "outputs": [],
   "source": [
    "train = pd.read_csv('../data/processed/train/train-dengue.csv')"
   ]
  },
  {
   "cell_type": "code",
   "execution_count": 7,
   "metadata": {
    "metadata": {}
   },
   "outputs": [],
   "source": [
    "train.dropna(inplace=True)"
   ]
  },
  {
   "cell_type": "code",
   "execution_count": 10,
   "metadata": {
    "metadata": {}
   },
   "outputs": [
    {
     "data": {
      "text/plain": [
       "['scaler.joblib']"
      ]
     },
     "execution_count": 10,
     "metadata": {},
     "output_type": "execute_result"
    }
   ],
   "source": [
    "# Seleccionar columnas relevantes\n",
    "relevant_columns = ['SEXO', 'EDAD_ANOS', 'TIPO_PACIENTE', 'HEMORRAGICOS', 'DIABETES',\n",
    "                    'HIPERTENSION', 'ENFERMEDAD_ULC_PEPTICA', 'ENFERMEDAD_RENAL',\n",
    "                    'INMUNOSUPR', 'CIRROSIS_HEPATICA', 'EMBARAZO', 'RESULTADO_PCR', 'DEFUNCION']\n",
    "\n",
    "df_train = train[relevant_columns]\n",
    "\n",
    "# Preprocesar datos (dummy variables para categorías)\n",
    "df_train = pd.get_dummies(df_train, columns=['SEXO', 'TIPO_PACIENTE', 'RESULTADO_PCR'], drop_first=True)\n",
    "\n",
    "# Separar características y etiqueta\n",
    "X_train = df_train.drop('DEFUNCION', axis=1)\n",
    "y_train = df_train['DEFUNCION']\n",
    "\n",
    "# Normalizar datos\n",
    "scaler = StandardScaler()\n",
    "X_train = scaler.fit_transform(X_train)\n",
    "\n",
    "# Convertir nombres de columnas a string\n",
    "X_train_df = pd.DataFrame(X_train, columns=[str(i) for i in range(X_train.shape[1])])\n",
    "X_train_df['DEFUNCION'] = y_train.values\n",
    "\n",
    "# Guardar los datos preprocesados\n",
    "X_train_df.to_parquet('processed_train_data.parquet')\n",
    "joblib.dump(scaler, 'scaler.joblib')"
   ]
  },
  {
   "cell_type": "code",
   "execution_count": 11,
   "metadata": {
    "metadata": {}
   },
   "outputs": [
    {
     "name": "stdout",
     "output_type": "stream",
     "text": [
      "Cross-validation accuracy scores: [0.99645094 0.99624139 0.99561495 0.99665901 0.99791188]\n",
      "Mean cross-validation accuracy: 0.9965756337047627\n"
     ]
    },
    {
     "data": {
      "text/plain": [
       "['logistic_regression_model.joblib']"
      ]
     },
     "execution_count": 11,
     "metadata": {},
     "output_type": "execute_result"
    }
   ],
   "source": [
    "# Construir y evaluar el modelo\n",
    "model = LogisticRegression()\n",
    "\n",
    "# K-Fold cross-validation\n",
    "kf = KFold(n_splits=5, random_state=42, shuffle=True)\n",
    "cv_results = cross_val_score(model, X_train_df.drop('DEFUNCION', axis=1), y_train, cv=kf, scoring='accuracy')\n",
    "\n",
    "print(f\"Cross-validation accuracy scores: {cv_results}\")\n",
    "print(f\"Mean cross-validation accuracy: {cv_results.mean()}\")\n",
    "\n",
    "# Entrenar el modelo en todo el conjunto de entrenamiento\n",
    "model.fit(X_train_df.drop('DEFUNCION', axis=1), y_train)\n",
    "\n",
    "# Guardar el modelo\n",
    "joblib.dump(model, 'logistic_regression_model.joblib')"
   ]
  }
 ],
 "metadata": {
  "kernelspec": {
   "display_name": "Python 3",
   "language": "python",
   "name": "python3"
  },
  "language_info": {
   "codemirror_mode": {
    "name": "ipython",
    "version": 3
   },
   "file_extension": ".py",
   "mimetype": "text/x-python",
   "name": "python",
   "nbconvert_exporter": "python",
   "pygments_lexer": "ipython3",
   "version": "3.10.14"
  }
 },
 "nbformat": 4,
 "nbformat_minor": 2
}
