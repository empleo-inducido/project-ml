{
 "cells": [
  {
   "cell_type": "code",
   "execution_count": null,
   "metadata": {},
   "outputs": [],
   "source": [
    "# En caso de no tenerlo\n",
    "# % pip install mlflow"
   ]
  },
  {
   "cell_type": "code",
   "execution_count": 1,
   "metadata": {},
   "outputs": [],
   "source": [
    "import mlflow\n",
    "import mlflow.pyfunc\n",
    "import pandas as pd\n",
    "import joblib"
   ]
  },
  {
   "cell_type": "markdown",
   "metadata": {},
   "source": [
    "Considerando que el proyecto fue hecho con la imagen de docker `rodolfojaramillo/project-ml:initial` disponible en dockerhub, y que la versión de python que usa es la 3.10.14, en Ubuntu, se requieren ejecutar algunos comandos que preparen el ambiente necesarios para que MLFlow cree el ambiente virtual donde el modelo sera servido.\n",
    "\n",
    "Dentro de una terminal en el contenedor se corren las siguientes instrucciones. (Correrlo en la celda presentara un error)"
   ]
  },
  {
   "cell_type": "code",
   "execution_count": null,
   "metadata": {},
   "outputs": [],
   "source": [
    "# Modulos necesarios para crear el ambiente\n",
    "! apt-get update && apt-get install -y build-essential wget zlib1g-dev libffi-dev libssl-dev libsqlite3-dev\n",
    "! export PATH=\"$HOME/.pyenv/bin:$PATH\"\n",
    "! eval \"$(pyenv init --path)\"\n",
    "\n",
    "# Variables de ambiente necesarias para que MLFLow encuentre el modelo que se solicita.\n",
    "! export MLFLOW_TRACKING_URI=\"https://dagshub.com/empleo-inducido/project-ml.mlflow\"\n",
    "! export MODEL_NAME=\"GBoost\"\n",
    "! export MODEL_VERSION=1\n",
    "\n",
    "# Construir la variable MODEL_URI\n",
    "! export MODEL_URI=\"models:/${MODEL_NAME}/${MODEL_VERSION}\"\n",
    "\n",
    "# Ejecutar el comando mlflow models serve\n",
    "! mlflow models serve -m \"$MODEL_URI\" -p 5000"
   ]
  },
  {
   "cell_type": "code",
   "execution_count": 2,
   "metadata": {},
   "outputs": [],
   "source": [
    "data = pd.read_parquet('/home/project/data/db/processed_test_data.parquet').sample(5).drop('TIPO_PACIENTE', axis = 1)"
   ]
  },
  {
   "cell_type": "code",
   "execution_count": 3,
   "metadata": {},
   "outputs": [],
   "source": [
    "import requests\n",
    "import pandas as pd\n",
    "import json"
   ]
  },
  {
   "cell_type": "markdown",
   "metadata": {},
   "source": [
    "Para hacer el request tiene que preparar los datos, una de las formas es mandando archivo json que sontenda los datos de la siguiente forma"
   ]
  },
  {
   "cell_type": "code",
   "execution_count": 4,
   "metadata": {},
   "outputs": [],
   "source": [
    "data_json = pd.DataFrame({\"dataframe_split\": data.to_dict(orient=\"split\")}).to_json()"
   ]
  },
  {
   "cell_type": "markdown",
   "metadata": {},
   "source": [
    "Para el puerto por donde se accede al modelo, se tiene que usar la dirección ../invocations, además de los siguientes headers."
   ]
  },
  {
   "cell_type": "code",
   "execution_count": 5,
   "metadata": {},
   "outputs": [],
   "source": [
    "url = 'http://localhost:5000/invocations'\n",
    "headers = {'Content-Type': 'application/json'}"
   ]
  },
  {
   "cell_type": "markdown",
   "metadata": {},
   "source": [
    "Dentro de la respuesta al request esta un json, que contiene en 'predictions' los valores para registro de los datos simulados."
   ]
  },
  {
   "cell_type": "code",
   "execution_count": 6,
   "metadata": {},
   "outputs": [
    {
     "name": "stdout",
     "output_type": "stream",
     "text": [
      "{'predictions': [2, 2, 1, 1, 2]}\n"
     ]
    }
   ],
   "source": [
    "response = requests.post(url, data=data_json, headers=headers)\n",
    "\n",
    "# Imprimir la respuesta\n",
    "print(response.json())"
   ]
  }
 ],
 "metadata": {
  "kernelspec": {
   "display_name": "Python 3",
   "language": "python",
   "name": "python3"
  },
  "language_info": {
   "codemirror_mode": {
    "name": "ipython",
    "version": 3
   },
   "file_extension": ".py",
   "mimetype": "text/x-python",
   "name": "python",
   "nbconvert_exporter": "python",
   "pygments_lexer": "ipython3",
   "version": "3.10.14"
  }
 },
 "nbformat": 4,
 "nbformat_minor": 2
}
