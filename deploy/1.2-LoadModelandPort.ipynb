{
 "cells": [
  {
   "cell_type": "code",
   "execution_count": 1,
   "metadata": {},
   "outputs": [],
   "source": [
    "import mlflow\n",
    "import requests\n",
    "import pandas as pd\n",
    "import mlflow.pyfunc\n",
    "from sklearn.preprocessing import StandardScaler\n",
    "import joblib"
   ]
  },
  {
   "cell_type": "code",
   "execution_count": 2,
   "metadata": {},
   "outputs": [],
   "source": [
    "df = pd.read_csv('/home/project/data/simulados/simulados.csv')\n",
    "df = df.drop(['TIPO_PACIENTE',], axis=1)\n",
    "scaler = joblib.load('/home/project/models/preprocess_utils/scaler.pkl')\n",
    "encoder = joblib.load('/home/project/models/preprocess_utils/encoder.pkl')\n",
    "encoded_columns  = encoder.transform(df[['SEXO', 'ESTATUS_CASO', 'RESULTADO_PCR']])\n",
    "scaled_columns = scaler.fit_transform(df.drop(['SEXO', 'ESTATUS_CASO', 'RESULTADO_PCR'], axis=1))\n",
    "encoded_scaled_df = pd.DataFrame(encoded_columns, columns=encoder.get_feature_names_out(['SEXO', 'ESTATUS_CASO', 'RESULTADO_PCR']))\n",
    "scaled_df = pd.DataFrame(scaled_columns, columns=df.drop(['SEXO', 'ESTATUS_CASO', 'RESULTADO_PCR'], axis=1).columns)\n",
    "data = pd.concat([encoded_scaled_df, scaled_df], axis=1)"
   ]
  },
  {
   "cell_type": "markdown",
   "metadata": {},
   "source": [
    "El modelo se hara accesible a traves de una API creada en ModelAPI.py con la libreria Fast API"
   ]
  },
  {
   "cell_type": "code",
   "execution_count": 4,
   "metadata": {},
   "outputs": [
    {
     "name": "stdout",
     "output_type": "stream",
     "text": [
      "Downloading artifacts: 100%|██████████████████████| 9/9 [00:00<00:00, 17.19it/s]\n",
      "\u001b[32mINFO\u001b[0m:     Started server process [\u001b[36m46404\u001b[0m]\n",
      "\u001b[32mINFO\u001b[0m:     Waiting for application startup.\n",
      "\u001b[32mINFO\u001b[0m:     Application startup complete.\n",
      "\u001b[32mINFO\u001b[0m:     Uvicorn running on \u001b[1mhttp://0.0.0.0:8000\u001b[0m (Press CTRL+C to quit)\n",
      "^C\n",
      "\u001b[32mINFO\u001b[0m:     Shutting down\n"
     ]
    }
   ],
   "source": [
    "! python /home/project/deploy/ModelAPI.py"
   ]
  },
  {
   "cell_type": "markdown",
   "metadata": {},
   "source": [
    "Se hace el request al puerto donde esta el modelo."
   ]
  },
  {
   "cell_type": "code",
   "execution_count": null,
   "metadata": {},
   "outputs": [
    {
     "name": "stdout",
     "output_type": "stream",
     "text": [
      "{'prediction': [1, 1, 1, 1, 1]}\n"
     ]
    }
   ],
   "source": [
    "# URL del servicio local\n",
    "url = \"http://localhost:8000/predict/\"\n",
    "\n",
    "# Enviar una solicitud POST al servidor\n",
    "response = requests.post(url, json={\"data\": data.tolist()})\n",
    "\n",
    "# Imprimir la respuesta\n",
    "print(response.json())\n",
    "\n"
   ]
  }
 ],
 "metadata": {
  "kernelspec": {
   "display_name": "Python 3",
   "language": "python",
   "name": "python3"
  },
  "language_info": {
   "codemirror_mode": {
    "name": "ipython",
    "version": 3
   },
   "file_extension": ".py",
   "mimetype": "text/x-python",
   "name": "python",
   "nbconvert_exporter": "python",
   "pygments_lexer": "ipython3",
   "version": "3.10.14"
  }
 },
 "nbformat": 4,
 "nbformat_minor": 2
}
