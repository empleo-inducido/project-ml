{
 "cells": [
  {
   "cell_type": "code",
   "execution_count": null,
   "metadata": {},
   "outputs": [],
   "source": [
    "# En caso de no tenerlo\n",
    "# % pip install mlflow"
   ]
  },
  {
   "cell_type": "code",
   "execution_count": 1,
   "metadata": {},
   "outputs": [],
   "source": [
    "import mlflow\n",
    "import mlflow.pyfunc\n",
    "import pandas as pd\n",
    "import joblib"
   ]
  },
  {
   "cell_type": "code",
   "execution_count": null,
   "metadata": {},
   "outputs": [],
   "source": [
    "test = pd.read_csv('/home/project/data/processed/test/test-dengue.csv')\n",
    "scaler = joblib.load('/home/project/deploy/scaler.pkl')\n",
    "df = test.drop('TIPO_PACIENTE', axis = 1)\n",
    "data = pd.get_dummies(df, columns=['SEXO', 'ESTATUS_CASO', 'RESULTADO_PCR'], drop_first=True).sample(5)\n",
    "data = scaler.transform(data)"
   ]
  },
  {
   "cell_type": "markdown",
   "metadata": {},
   "source": [
    "Configurar MLFlow para acceder al servidor de Dagshub que contiene los modelos"
   ]
  },
  {
   "cell_type": "code",
   "execution_count": 2,
   "metadata": {},
   "outputs": [],
   "source": [
    "mlflow.set_tracking_uri(\"https://dagshub.com/empleo-inducido/project-ml.mlflow\")"
   ]
  },
  {
   "cell_type": "markdown",
   "metadata": {},
   "source": [
    "Dentro de variables `model_name` y `model_version` se guardan como estan etiquedos en MLFLow."
   ]
  },
  {
   "cell_type": "code",
   "execution_count": 3,
   "metadata": {},
   "outputs": [
    {
     "data": {
      "application/vnd.jupyter.widget-view+json": {
       "model_id": "e0b10f17006a44f9a640b70941d82971",
       "version_major": 2,
       "version_minor": 0
      },
      "text/plain": [
       "Downloading artifacts:   0%|          | 0/9 [00:00<?, ?it/s]"
      ]
     },
     "metadata": {},
     "output_type": "display_data"
    }
   ],
   "source": [
    "model_name = \"testing-model\"\n",
    "model_version = 1\n",
    "\n",
    "model = mlflow.pyfunc.load_model(model_uri=f\"models:/{model_name}/{model_version}\")"
   ]
  },
  {
   "cell_type": "code",
   "execution_count": 5,
   "metadata": {},
   "outputs": [
    {
     "name": "stdout",
     "output_type": "stream",
     "text": [
      "Usage: mlflow models serve [OPTIONS]\n",
      "Try 'mlflow models serve --help' for help.\n",
      "\n",
      "Error: Got unexpected extra argument (8080)\n"
     ]
    }
   ],
   "source": [
    "! export MODEL_NAME=\"testing-model\"\n",
    "! export MODEL_VERSION=1\n",
    "\n",
    "# Construir la variable MODEL_URI\n",
    "! export MODEL_URI=\"models:/${MODEL_NAME}/${MODEL_VERSION}\"\n",
    "\n",
    "# Ejecutar el comando mlflow models serve\n",
    "! mlflow models serve -m $MODEL_URI -p 8080"
   ]
  },
  {
   "cell_type": "code",
   "execution_count": null,
   "metadata": {},
   "outputs": [],
   "source": []
  }
 ],
 "metadata": {
  "kernelspec": {
   "display_name": "Python 3",
   "language": "python",
   "name": "python3"
  },
  "language_info": {
   "codemirror_mode": {
    "name": "ipython",
    "version": 3
   },
   "file_extension": ".py",
   "mimetype": "text/x-python",
   "name": "python",
   "nbconvert_exporter": "python",
   "pygments_lexer": "ipython3",
   "version": "3.10.14"
  }
 },
 "nbformat": 4,
 "nbformat_minor": 2
}
