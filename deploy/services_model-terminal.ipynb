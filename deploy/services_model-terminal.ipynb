{
 "cells": [
  {
   "cell_type": "code",
   "execution_count": null,
   "metadata": {},
   "outputs": [],
   "source": [
    "# En caso de no tenerlo\n",
    "# % pip install mlflow"
   ]
  },
  {
   "cell_type": "code",
   "execution_count": 1,
   "metadata": {},
   "outputs": [],
   "source": [
    "import mlflow\n",
    "import mlflow.pyfunc\n",
    "import pandas as pd\n",
    "import joblib"
   ]
  },
  {
   "cell_type": "code",
   "execution_count": null,
   "metadata": {},
   "outputs": [],
   "source": [
    "test = pd.read_csv('/home/project/data/processed/test/test-dengue.csv')\n",
    "scaler = joblib.load('/home/project/deploy/scaler.pkl')\n",
    "df = test.drop('TIPO_PACIENTE', axis = 1)\n",
    "data = pd.get_dummies(df, columns=['SEXO', 'ESTATUS_CASO', 'RESULTADO_PCR'], drop_first=True).sample(5)\n",
    "data = scaler.transform(data)"
   ]
  },
  {
   "cell_type": "markdown",
   "metadata": {},
   "source": [
    "Configurar MLFlow para acceder al servidor de Dagshub que contiene los modelos"
   ]
  },
  {
   "cell_type": "code",
   "execution_count": 16,
   "metadata": {},
   "outputs": [],
   "source": [
    "mlflow.set_tracking_uri(\"https://dagshub.com/empleo-inducido/project-ml.mlflow\")"
   ]
  },
  {
   "cell_type": "markdown",
   "metadata": {},
   "source": [
    "Dentro de variables `model_name` y `model_version` se guardan como estan etiquedos en MLFLow."
   ]
  },
  {
   "cell_type": "code",
   "execution_count": 18,
   "metadata": {},
   "outputs": [
    {
     "name": "stdout",
     "output_type": "stream",
     "text": [
      "Traceback (most recent call last):\n",
      "  File \"/usr/local/bin/mlflow\", line 8, in <module>\n",
      "    sys.exit(cli())\n",
      "  File \"/usr/local/lib/python3.10/site-packages/click/core.py\", line 1157, in __call__\n",
      "    return self.main(*args, **kwargs)\n",
      "  File \"/usr/local/lib/python3.10/site-packages/click/core.py\", line 1078, in main\n",
      "    rv = self.invoke(ctx)\n",
      "  File \"/usr/local/lib/python3.10/site-packages/click/core.py\", line 1688, in invoke\n",
      "    return _process_result(sub_ctx.command.invoke(sub_ctx))\n",
      "  File \"/usr/local/lib/python3.10/site-packages/click/core.py\", line 1688, in invoke\n",
      "    return _process_result(sub_ctx.command.invoke(sub_ctx))\n",
      "  File \"/usr/local/lib/python3.10/site-packages/click/core.py\", line 1434, in invoke\n",
      "    return ctx.invoke(self.callback, **ctx.params)\n",
      "  File \"/usr/local/lib/python3.10/site-packages/click/core.py\", line 783, in invoke\n",
      "    return __callback(*args, **kwargs)\n",
      "  File \"/usr/local/lib/python3.10/site-packages/mlflow/models/cli.py\", line 103, in serve\n",
      "    return get_flavor_backend(\n",
      "  File \"/usr/local/lib/python3.10/site-packages/mlflow/models/flavor_backend_registry.py\", line 45, in get_flavor_backend\n",
      "    local_path = _download_artifact_from_uri(\n",
      "  File \"/usr/local/lib/python3.10/site-packages/mlflow/tracking/artifact_utils.py\", line 108, in _download_artifact_from_uri\n",
      "    repo = get_artifact_repository(artifact_uri=root_uri)\n",
      "  File \"/usr/local/lib/python3.10/site-packages/mlflow/store/artifact/artifact_repository_registry.py\", line 124, in get_artifact_repository\n",
      "    return _artifact_repository_registry.get_artifact_repository(artifact_uri)\n",
      "  File \"/usr/local/lib/python3.10/site-packages/mlflow/store/artifact/artifact_repository_registry.py\", line 77, in get_artifact_repository\n",
      "    return repository(artifact_uri)\n",
      "  File \"/usr/local/lib/python3.10/site-packages/mlflow/store/artifact/runs_artifact_repo.py\", line 26, in __init__\n",
      "    uri = RunsArtifactRepository.get_underlying_uri(artifact_uri)\n",
      "  File \"/usr/local/lib/python3.10/site-packages/mlflow/store/artifact/runs_artifact_repo.py\", line 39, in get_underlying_uri\n",
      "    uri = get_artifact_uri(run_id, artifact_path, tracking_uri)\n",
      "  File \"/usr/local/lib/python3.10/site-packages/mlflow/tracking/artifact_utils.py\", line 52, in get_artifact_uri\n",
      "    run = store.get_run(run_id)\n",
      "  File \"/usr/local/lib/python3.10/site-packages/mlflow/store/tracking/file_store.py\", line 676, in get_run\n",
      "    run_info = self._get_run_info(run_id)\n",
      "  File \"/usr/local/lib/python3.10/site-packages/mlflow/store/tracking/file_store.py\", line 700, in _get_run_info\n",
      "    raise MlflowException(\n",
      "mlflow.exceptions.MlflowException: Run 'cb5a75c8402747eb8e952c8bdce93e23' not found\n"
     ]
    }
   ],
   "source": [
    "! export MODEL_NAME=\"testing-model\"\n",
    "! export MODEL_VERSION=1\n",
    "\n",
    "# Construir la variable MODEL_URI\n",
    "! export MODEL_URI=\"models:/${MODEL_NAME}/${MODEL_VERSION}\"\n",
    "! export RUN_ID=\"bagging\"\n",
    "\n",
    "# Ejecutar el comando mlflow models serve\n",
    "! mlflow models serve -m 'runs:/cb5a75c8402747eb8e952c8bdce93e23/model'"
   ]
  },
  {
   "cell_type": "code",
   "execution_count": null,
   "metadata": {},
   "outputs": [],
   "source": []
  }
 ],
 "metadata": {
  "kernelspec": {
   "display_name": "Python 3",
   "language": "python",
   "name": "python3"
  },
  "language_info": {
   "codemirror_mode": {
    "name": "ipython",
    "version": 3
   },
   "file_extension": ".py",
   "mimetype": "text/x-python",
   "name": "python",
   "nbconvert_exporter": "python",
   "pygments_lexer": "ipython3",
   "version": "3.10.14"
  }
 },
 "nbformat": 4,
 "nbformat_minor": 2
}
