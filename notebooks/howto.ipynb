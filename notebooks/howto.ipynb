{
 "cells": [
  {
   "cell_type": "code",
   "execution_count": 5,
   "metadata": {},
   "outputs": [],
   "source": [
    "from dagshub.data_engine import datasources\n",
    "import pandas as pd"
   ]
  },
  {
   "cell_type": "code",
   "execution_count": 17,
   "metadata": {},
   "outputs": [],
   "source": [
    "ds = datasources.get(\n",
    "    repo='empleo-inducido/project-ml', #Nombre del repositorio\n",
    "    name='raw',                        #Nombre del datasource\n",
    "    path='/dengue-raw.csv'             #El archivo dentro del datasourse\n",
    ")"
   ]
  },
  {
   "cell_type": "code",
   "execution_count": 19,
   "metadata": {},
   "outputs": [],
   "source": [
    "ds = datasources.get('empleo-inducido/project-ml', 'raw')"
   ]
  },
  {
   "cell_type": "code",
   "execution_count": 20,
   "metadata": {},
   "outputs": [
    {
     "ename": "FieldNotFoundError",
     "evalue": "Field SEXO does not exist on this datasource",
     "output_type": "error",
     "traceback": [
      "\u001b[0;31m---------------------------------------------------------------------------\u001b[0m",
      "\u001b[0;31mFieldNotFoundError\u001b[0m                        Traceback (most recent call last)",
      "Cell \u001b[0;32mIn[20], line 1\u001b[0m\n\u001b[0;32m----> 1\u001b[0m ds[\u001b[43mds\u001b[49m\u001b[43m[\u001b[49m\u001b[38;5;124;43m'\u001b[39;49m\u001b[38;5;124;43mSEXO\u001b[39;49m\u001b[38;5;124;43m'\u001b[39;49m\u001b[43m]\u001b[49m \u001b[38;5;241m==\u001b[39m \u001b[38;5;241m1\u001b[39m]\n",
      "File \u001b[0;32m/usr/local/lib/python3.10/site-packages/dagshub/data_engine/model/datasource.py:1111\u001b[0m, in \u001b[0;36mDatasource.__getitem__\u001b[0;34m(self, other)\u001b[0m\n\u001b[1;32m   1106\u001b[0m other_query \u001b[38;5;241m=\u001b[39m QueryFilterTree(\n\u001b[1;32m   1107\u001b[0m     query_field\u001b[38;5;241m.\u001b[39mfield_name,\n\u001b[1;32m   1108\u001b[0m     query_field\u001b[38;5;241m.\u001b[39mas_of_timestamp,\n\u001b[1;32m   1109\u001b[0m )\n\u001b[1;32m   1110\u001b[0m \u001b[38;5;28;01mif\u001b[39;00m \u001b[38;5;129;01mnot\u001b[39;00m \u001b[38;5;28mself\u001b[39m\u001b[38;5;241m.\u001b[39mhas_field(query_field\u001b[38;5;241m.\u001b[39mfield_name):\n\u001b[0;32m-> 1111\u001b[0m     \u001b[38;5;28;01mraise\u001b[39;00m FieldNotFoundError(query_field\u001b[38;5;241m.\u001b[39mfield_name)\n\u001b[1;32m   1112\u001b[0m \u001b[38;5;28;01mif\u001b[39;00m \u001b[38;5;28mself\u001b[39m\u001b[38;5;241m.\u001b[39m_query\u001b[38;5;241m.\u001b[39mfilter\u001b[38;5;241m.\u001b[39mis_empty:\n\u001b[1;32m   1113\u001b[0m     new_ds\u001b[38;5;241m.\u001b[39m_query\u001b[38;5;241m.\u001b[39mfilter \u001b[38;5;241m=\u001b[39m other_query\n",
      "\u001b[0;31mFieldNotFoundError\u001b[0m: Field SEXO does not exist on this datasource"
     ]
    }
   ],
   "source": [
    "ds[ds['SEXO'] == 1]"
   ]
  },
  {
   "cell_type": "code",
   "execution_count": null,
   "metadata": {},
   "outputs": [],
   "source": []
  }
 ],
 "metadata": {
  "kernelspec": {
   "display_name": "Python 3",
   "language": "python",
   "name": "python3"
  },
  "language_info": {
   "codemirror_mode": {
    "name": "ipython",
    "version": 3
   },
   "file_extension": ".py",
   "mimetype": "text/x-python",
   "name": "python",
   "nbconvert_exporter": "python",
   "pygments_lexer": "ipython3",
   "version": "3.10.14"
  }
 },
 "nbformat": 4,
 "nbformat_minor": 2
}
